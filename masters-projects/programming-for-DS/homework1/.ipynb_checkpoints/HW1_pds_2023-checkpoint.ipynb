{
 "cells": [
  {
   "cell_type": "markdown",
   "metadata": {},
   "source": [
    "# Programming for Data Science 2023\n",
    "## Homework Assigment One\n",
    "\n",
    "Homework activities aim not only at testing your ability to put into practice the concepts you have learned during the Lectures and Labs, but also your ability to explore the Python documentation as a resource. \n",
    "\n",
    "Above all, it is an opportunity for you to challenge yourself and practice. If you are having difficulties with the assignment reach out for support.\n",
    "\n",
    "The Homework Assigment One is divided into **three parts**:\n",
    "1. Explore the core building blocks of programming, focusing in variables, data structures, and their manipulation;\n",
    "2. Explore data loading and analysis using the core elements of Python, without fancy third-party libraries;\n",
    "3. Explore functional programming by defining different functions and operating with the map() and filter().\n",
    "\n",
    "Your submission will be graded according to the following guidelines:\n",
    "1. **Execution** (does your program do what is asked from the exercise?);\n",
    "2. **Objectivity** (are you using the adequate libraries?);\n",
    "3. **Readibility** of your code (that includes comments, naming of variables, supporting text, etc ...).\n",
    "\n",
    "This assignment is to be done in groups of two, groups that are caught cheating will obtain a score of 0 points. \\\n",
    "\n",
    "Oral Examination will be conducted to a subset of groups picked randomly and or that have been flagged during the grading\n",
    "\n",
    "The Homeworking Assignment One is worth **20%** of your final grade.\n",
    "\n",
    "The submission package should correspond to a .zip archive (**.rar files are not accepted**) with the following files:\n",
    "1. Jupyter Notebook with the output of all the cells;\n",
    "2. PDF/HTML of your Jupyter Notebook (on Jupyter go to File -> Download As -> PDF);\n",
    "3. All text or .csv files exported as part of the exercises.\n",
    "\n",
    "#### Important Notes: \n",
    "- **You are ONLY allowed to use any library from the Python STL (see here https://docs.python.org/3/library/).**\n",
    "- **Comment your code properly, which includes naming your variables in a meaningful manner. Badly documented code will be penalized.**</b>\n",
    "- **Submissions in non .zip format will be penalized with 2 points.**\n",
    "\n",
    "Submission is done through the respective Moodle activity.\\\n",
    "Deadline is **20223-09-28**, a Thursday, at 23:59.\\\n",
    "A penality of 1 point per day late will be applied to late deliveries."
   ]
  },
  {
   "cell_type": "markdown",
   "metadata": {},
   "source": [
    "# <span style=\"color:brown\"> Start Here </span> \n",
    "\n",
    "[Please Complete the following form with your details]\n",
    "\n",
    "Student Name - Pedro Cerejeira<br>\n",
    "Student id - 20230442<br>\n",
    "Contact e-mail - 20230442@novaims.unl.pt<br>\n",
    "\n",
    "\n",
    "Student Name - Maria Almeida<br>\n",
    "Student id - 20230489<br>\n",
    "Contact e-mail - 20230489@novaims.unl.pt<br>"
   ]
  },
  {
   "cell_type": "markdown",
   "metadata": {},
   "source": [
    "# <span style=\"color:brown\"> Part 1 -  Variable Declaration and Manipulation </span> \n",
    "\n",
    "## Exercise I - of Lists and Random numbers\n",
    "\n",
    "**1**: Declare a variable X that stores a list of 100 integers randomly sampled between -100 and 100.<br>\n",
    "Note: You are not allowed to use third party libraries -- such as Numpy, Pandas, or Scipy -- in this exercise."
   ]
  },
  {
   "cell_type": "code",
   "execution_count": 1,
   "metadata": {
    "tags": []
   },
   "outputs": [
    {
     "name": "stdout",
     "output_type": "stream",
     "text": [
      "[-5, 85, -77, -31, -76, 38, 37, -27, -70, 63, -21, -90, 17, 98, 29, -86, -14, -37, -80, -29, 12, -58, -22, -15, 21, 30, -28, 47, -8, -83, 94, 19, -80, -64, 85, 0, -16, 31, -43, 34, 18, -28, 19, 44, -52, 70, -90, 60, -67, -100, -60, -77, 7, -57, 61, 22, 86, 93, -75, 7, 60, -79, 38, -46, -100, 83, -79, 100, -47, -6, 13, 82, 84, -93, 74, -75, 12, 96, 25, -57, -21, -9, 4, 24, -16, -16, 97, -3, 4, 87, -59, -79, -45, 19, -80, -97, 19, 87, -59, 84]\n"
     ]
    }
   ],
   "source": [
    "import random\n",
    "X = []\n",
    "\n",
    "for r in range(100): # range 100 to generate 100 entries for the list\n",
    "    i = random.randint(-100, 100) # random number between -100 and 100\n",
    "    X.append(i)\n",
    "    \n",
    "print(X)"
   ]
  },
  {
   "cell_type": "markdown",
   "metadata": {},
   "source": [
    "**2**: How many odd numbers are in the list X?\n"
   ]
  },
  {
   "cell_type": "code",
   "execution_count": 2,
   "metadata": {
    "tags": []
   },
   "outputs": [
    {
     "name": "stdout",
     "output_type": "stream",
     "text": [
      "There are 51 odd numbers.\n"
     ]
    }
   ],
   "source": [
    "odd = 0\n",
    "for i in X: # iterating through X and counting the odd numbers\n",
    "    if i%2 != 0:\n",
    "        odd += 1\n",
    "\n",
    "print(\"There are\", odd, \"odd numbers.\")"
   ]
  },
  {
   "cell_type": "markdown",
   "metadata": {},
   "source": [
    "**2.1** Check if there are as many even numbers as there are odd numbers, else discard the list and generate a new one."
   ]
  },
  {
   "cell_type": "code",
   "execution_count": 3,
   "metadata": {
    "tags": []
   },
   "outputs": [
    {
     "name": "stdout",
     "output_type": "stream",
     "text": [
      "The number of even numbers is different from the odd numbers, please generate a new list\n"
     ]
    }
   ],
   "source": [
    "even = 0\n",
    "\n",
    "for i in X: # iterating through X and counting the even numbers\n",
    "    if i%2 == 0:\n",
    "        even +=1\n",
    "\n",
    "if (even != odd): # comparing number of even with odd numbers\n",
    "    X = []\n",
    "    print(\"The number of even numbers is different from the odd numbers, please generate a new list\")\n",
    "\n",
    "else:\n",
    "    print(\"The number of even and odd numbers in the list is the same!\")"
   ]
  },
  {
   "cell_type": "markdown",
   "metadata": {},
   "source": [
    "**2.2** Create a pipeline to automatically perform the tasks above such that you avoid having to run the cells multiple times to reach the desired outcome."
   ]
  },
  {
   "cell_type": "code",
   "execution_count": 4,
   "metadata": {
    "tags": []
   },
   "outputs": [
    {
     "name": "stdout",
     "output_type": "stream",
     "text": [
      "The number of even numbers is different from the odd numbers, please generate a new list\n"
     ]
    }
   ],
   "source": [
    "import random\n",
    "\n",
    "# simply defining functions for everything mentioned above, so the tasks can be performed automatically\n",
    "\n",
    "def generateRandomList():\n",
    "    list1 = []\n",
    "\n",
    "    for r in range(100):\n",
    "        i = random.randint(-100, 100)\n",
    "        list1.append(i)\n",
    "        \n",
    "    return list1\n",
    "\n",
    "def checkOdd(list1):\n",
    "    odd = 0\n",
    "    for i in list1:\n",
    "        if i%2 != 0:\n",
    "            odd += 1\n",
    "    return odd\n",
    "\n",
    "def compareEvenOdd(list1, odd):\n",
    "    even = 0\n",
    "\n",
    "    for i in list1:\n",
    "        if i%2 == 0:\n",
    "            even +=1\n",
    "\n",
    "    if (even != odd):\n",
    "        list1 = []\n",
    "        print(\"The number of even numbers is different from the odd numbers, please generate a new list\")\n",
    "    else:\n",
    "        print(\"The number of even and odd numbers in the list is the same!\")\n",
    "        \n",
    "list1 = generateRandomList()\n",
    "compareEvenOdd(list1, checkOdd(list1))"
   ]
  },
  {
   "cell_type": "markdown",
   "metadata": {},
   "source": [
    "**3**: Print the number of digits that the 5th and 100th element of the list have. <br>\n",
    "*Note: For instance, the number 1 contains one digit, the number 10 contains two digits, the number -2 contains one digit.*"
   ]
  },
  {
   "cell_type": "code",
   "execution_count": 5,
   "metadata": {
    "tags": []
   },
   "outputs": [
    {
     "name": "stdout",
     "output_type": "stream",
     "text": [
      "The 5th element has 2 digits.\n",
      "The 100th element has 2 digits.\n"
     ]
    }
   ],
   "source": [
    "list1 = generateRandomList()\n",
    "\n",
    "digits_5th = len(str(list1[4])) # index 4 will be the 5th element, since the index starts in 0\n",
    "digits_100th = len(str(list1[99])) # index 99 will be the 100th element, since the index starts in 0\n",
    "\n",
    "if str(list1[4])[0] == \"-\": # converting to string and, since '-' is also a character, removing 1 from the size\n",
    "                            # if it exists\n",
    "    digits_5th -= 1\n",
    "    \n",
    "if str(list1[99])[0] == \"-\":\n",
    "    digits_100th -= 1\n",
    "\n",
    "print(\"The 5th element has\", digits_5th, \"digits.\\nThe 100th element has\", digits_100th, \"digits.\")"
   ]
  },
  {
   "cell_type": "markdown",
   "metadata": {},
   "source": [
    "**4**: Is the sum total of all the numbers in the list even or odd?"
   ]
  },
  {
   "cell_type": "code",
   "execution_count": 6,
   "metadata": {
    "tags": []
   },
   "outputs": [
    {
     "name": "stdout",
     "output_type": "stream",
     "text": [
      "The sum of all the list's elements is even!\n"
     ]
    },
    {
     "data": {
      "text/plain": [
       "576"
      ]
     },
     "execution_count": 6,
     "metadata": {},
     "output_type": "execute_result"
    }
   ],
   "source": [
    "def sumList(list1):\n",
    "    total = sum(list1)\n",
    "\n",
    "    if total % 2 == 0:\n",
    "        print(\"The sum of all the list's elements is even!\")\n",
    "    else:\n",
    "        print(\"The sum of all the list's elements is odd!\")\n",
    "    return total\n",
    "\n",
    "list1 = generateRandomList()\n",
    "sumList(list1)"
   ]
  },
  {
   "cell_type": "markdown",
   "metadata": {},
   "source": [
    "**5**: What is the average of the list X?"
   ]
  },
  {
   "cell_type": "code",
   "execution_count": 7,
   "metadata": {
    "tags": []
   },
   "outputs": [
    {
     "name": "stdout",
     "output_type": "stream",
     "text": [
      "The average of the List X is: 3.91\n"
     ]
    },
    {
     "data": {
      "text/plain": [
       "3.91"
      ]
     },
     "execution_count": 7,
     "metadata": {},
     "output_type": "execute_result"
    }
   ],
   "source": [
    "def averageList(list1):\n",
    "    total = sum(list1)\n",
    "\n",
    "    average = total / len(list1)\n",
    "\n",
    "    print(\"The average of the List X is:\", average)\n",
    "    return average\n",
    "    \n",
    "X = generateRandomList()\n",
    "averageList(X)"
   ]
  },
  {
   "cell_type": "markdown",
   "metadata": {},
   "source": [
    "**5.1.** What is the population standard deviation? <br>"
   ]
  },
  {
   "cell_type": "code",
   "execution_count": 8,
   "metadata": {
    "tags": []
   },
   "outputs": [
    {
     "name": "stdout",
     "output_type": "stream",
     "text": [
      "The average of the List X is: -6.27\n",
      "The standard deviation of the list is: 58.09988898440342\n"
     ]
    },
    {
     "data": {
      "text/plain": [
       "58.09988898440342"
      ]
     },
     "execution_count": 8,
     "metadata": {},
     "output_type": "execute_result"
    }
   ],
   "source": [
    "from math import sqrt\n",
    "\n",
    "def variance(list1): # calculating the variance\n",
    "    aux = 0\n",
    "    \n",
    "    size = len(list1)\n",
    "    mean = averageList(list1)\n",
    "    \n",
    "    for x in list1:\n",
    "        aux += (x - mean) ** 2\n",
    "        \n",
    "    return aux / size\n",
    "\n",
    "def standardDeviation(variance): # calculating the standard deviation\n",
    "    stdDev = sqrt(variance) # this would be the same as variance**(1/2)\n",
    "    print(\"The standard deviation of the list is:\", stdDev)\n",
    "    return stdDev\n",
    "\n",
    "list1 = generateRandomList()\n",
    "variance = variance(list1)\n",
    "standardDeviation(variance)"
   ]
  },
  {
   "cell_type": "markdown",
   "metadata": {},
   "source": [
    "**6**: Sort list X in descending order and store the result in variable Xsort. <br>"
   ]
  },
  {
   "cell_type": "code",
   "execution_count": 9,
   "metadata": {
    "tags": []
   },
   "outputs": [],
   "source": [
    "X = generateRandomList()\n",
    "def sortReverse(list1):\n",
    "    X.sort(reverse=True) # reverse since we want descending order\n",
    "    Xsort = X\n",
    "\n",
    "    print(\"XSort:\", Xsort, \"\\n\")\n",
    "    return Xsort"
   ]
  },
  {
   "cell_type": "markdown",
   "metadata": {},
   "source": [
    "**6.1** Then replace each value in Xsort with index i as the sum of the values with index i-1 and i. <br> \n",
    "\n",
    "*Note: Per definition consider that Xsort[-1] = 0.*"
   ]
  },
  {
   "cell_type": "code",
   "execution_count": 10,
   "metadata": {},
   "outputs": [
    {
     "name": "stdout",
     "output_type": "stream",
     "text": [
      "XSort: [95, 93, 89, 88, 85, 83, 82, 81, 77, 76, 74, 72, 69, 68, 67, 64, 64, 59, 55, 54, 49, 49, 47, 46, 45, 45, 45, 44, 40, 38, 37, 35, 32, 31, 31, 28, 26, 24, 23, 22, 16, 14, 14, 13, 13, 9, 9, 6, 6, 6, 3, 0, 0, -2, -5, -5, -6, -8, -9, -9, -12, -18, -20, -20, -21, -23, -28, -29, -30, -31, -31, -35, -39, -41, -45, -48, -48, -54, -60, -64, -65, -66, -67, -70, -74, -75, -77, -77, -77, -78, -79, -81, -85, -88, -89, -91, -92, -95, -97, -98] \n",
      "\n",
      "The new Xsort is: [95, 188, 182, 177, 173, 168, 165, 163, 158, 153, 150, 146, 141, 137, 135, 131, 128, 123, 114, 109, 103, 98, 96, 93, 91, 90, 90, 89, 84, 78, 75, 72, 67, 63, 62, 59, 54, 50, 47, 45, 38, 30, 28, 27, 26, 22, 18, 15, 12, 12, 9, 3, 0, -2, -7, -10, -11, -14, -17, -18, -21, -30, -38, -40, -41, -44, -51, -57, -59, -61, -62, -66, -74, -80, -86, -93, -96, -102, -114, -124, -129, -131, -133, -137, -144, -149, -152, -154, -154, -155, -157, -160, -166, -173, -177, -180, -183, -187, -192, -195]\n"
     ]
    }
   ],
   "source": [
    "X = generateRandomList()\n",
    "Xsort = sortReverse(X)\n",
    "Xaux = Xsort.copy() # copying so we handle always the non altered list, instead of the summed values\n",
    "for i in range (len(X)):\n",
    "    if (i-1 < 0):\n",
    "        Xsort[i] = 0 + Xaux[i]\n",
    "    else:\n",
    "        Xsort[i] = Xaux[i-1] + Xaux[i]\n",
    "    \n",
    "print (\"The new Xsort is:\", Xsort)"
   ]
  },
  {
   "cell_type": "markdown",
   "metadata": {},
   "source": [
    "## Exercise II - we have a gamer in the room\n",
    "\n",
    "**7**: Consider the dictionaries  *purchases* and *clients* that are declared in the cell below. <br>\n",
    "Create a list with the names of the clients who bought more than one videogame. Print the List. <br>"
   ]
  },
  {
   "cell_type": "code",
   "execution_count": 11,
   "metadata": {},
   "outputs": [],
   "source": [
    "purchases = {\n",
    "    \n",
    "    \"1539\":\"Red dead redemption II\",\n",
    "    \"9843\":\"GTA V,FarCry 5, watchdogs II\",\n",
    "    \"8472\":\"Canis Canem Edit\",\n",
    "    \"3874\":\"Watchdogs II,South Park: The Stick of Truth\",\n",
    "    \"5783\":\"AC: The Ezio Collection, watchdogs ii\",\n",
    "    \"9823\":\"For Honor,The Forest,South Park: The Fractured but whole\"\n",
    "    \n",
    "}"
   ]
  },
  {
   "cell_type": "code",
   "execution_count": 12,
   "metadata": {},
   "outputs": [],
   "source": [
    "clients = {\n",
    "    \n",
    "    \"1539\":\"Rick Sanchez\",\n",
    "    \"9843\":\"Morty Smith\",\n",
    "    \"8472\":\"Eve Polastri\",\n",
    "    \"3874\":\"Mildred Ratched\",\n",
    "    \"5783\":\"Alex Vause\",\n",
    "    \"9823\":\"Sheldon Cooper\"\n",
    "    \n",
    "}"
   ]
  },
  {
   "cell_type": "code",
   "execution_count": 13,
   "metadata": {
    "tags": []
   },
   "outputs": [
    {
     "name": "stdout",
     "output_type": "stream",
     "text": [
      "The clients who bought more than 1 videogame are: ['Morty Smith', 'Mildred Ratched', 'Alex Vause', 'Sheldon Cooper']\n"
     ]
    }
   ],
   "source": [
    "listAux = []\n",
    "multipleMovieClient = []\n",
    "\n",
    "for key, value in purchases.items():\n",
    "    values = value.split(',') # splitting the movies by each ',' so we can figure out each one individually\n",
    "    if (len(values) > 1):\n",
    "        multipleMovieClient.append(clients[key])\n",
    "        \n",
    "print(\"The clients who bought more than 1 videogame are:\", list(multipleMovieClient))"
   ]
  },
  {
   "cell_type": "markdown",
   "metadata": {},
   "source": [
    "**7.1** What is the name of the client that bought more videogames?\n",
    "\n",
    "*Tip: You will want to check the methods associated with string manipulation. See the link: <br>\n",
    "https://python-reference.readthedocs.io/en/latest/docs/unicode/index.html*"
   ]
  },
  {
   "cell_type": "code",
   "execution_count": 14,
   "metadata": {},
   "outputs": [
    {
     "name": "stdout",
     "output_type": "stream",
     "text": [
      "There was more than 1 client buying the maximum number of games, they are: ['Morty Smith', 'Sheldon Cooper']\n"
     ]
    }
   ],
   "source": [
    "finalList = []\n",
    "multipleMovieClient = {}\n",
    "\n",
    "for key, value in purchases.items():\n",
    "    values = value.split(',')\n",
    "    multipleMovieClient[clients[key]] = len(values) # appending the number of movies bought by each client\n",
    "\n",
    "maxGames = max(multipleMovieClient.values()) # figuring out the maximum number of movies bought by one client\n",
    "\n",
    "for key, value in multipleMovieClient.items(): # we are also using a loop here, so we can add more than 1 client,\n",
    "                                               # if both bought the max number of movies\n",
    "    if (value == maxGames):\n",
    "        finalList.append(key)\n",
    "        \n",
    "if (len(finalList) > 1):\n",
    "    print(\"There was more than 1 client buying the maximum number of games, they are:\", finalList)\n",
    "else:\n",
    "    print(\"The client buying more games was:\", finalList)"
   ]
  },
  {
   "cell_type": "markdown",
   "metadata": {},
   "source": [
    "**7.2** What is the name of the most popular videogame?"
   ]
  },
  {
   "cell_type": "code",
   "execution_count": 15,
   "metadata": {},
   "outputs": [
    {
     "name": "stdout",
     "output_type": "stream",
     "text": [
      "watchdogs ii\n"
     ]
    }
   ],
   "source": [
    "games = {}\n",
    "\n",
    "for value in purchases.values():\n",
    "    values = value.split(',')\n",
    "    for i in range(len(values)):\n",
    "        values[i] = values[i].strip().lower() # picking each videogame, stripping its leading spaces \n",
    "                                              # (because of str.split()) and placing all characters in lowercase\n",
    "    \n",
    "    for game in values:\n",
    "        if (game in games.keys()): # if game is already in the dict, add one more sold to his value, otherwise\n",
    "                                   # add the game to the dictionary with 1 sold\n",
    "            games[game] += 1\n",
    "        else:\n",
    "            games[game] = 1\n",
    "            \n",
    "topGame = max(games, key=games.get) # we could also solve this with a loop, but this is more efficient\n",
    "print(topGame)"
   ]
  },
  {
   "cell_type": "markdown",
   "metadata": {},
   "source": [
    "# <span style=\"color:brown\"> Part 2 -  Data loading and analysis  </span>\n",
    "\n",
    "## Exercise I - Alice what do you have to say?\n",
    "\n",
    "**8**: Load the Alice text file into a variable called Alice. <br>\n",
    "\n",
    "*Note: Use a relative filepath in relation to the location of your notebook.*"
   ]
  },
  {
   "cell_type": "code",
   "execution_count": 16,
   "metadata": {},
   "outputs": [
    {
     "name": "stdout",
     "output_type": "stream",
     "text": [
      "Alice was beginning to get very tired of sitting by her sister on the bank, and of having nothing to do: once or twice she had peeped into the book her sister was reading, but it had no pictures or conversations in it, <<and what is the use of a book>>. thought Alice <<without pictures or conversation?>>.\n"
     ]
    }
   ],
   "source": [
    "import os\n",
    "\n",
    "filePath = \"alice.txt\" # defining the file\n",
    "\n",
    "# Open the file for reading\n",
    "with open(filePath, 'r') as file: # Read the contents of the file 'r'\n",
    "    Alice = file.read()\n",
    "\n",
    "    print(Alice) # Print or process the file contents as needed"
   ]
  },
  {
   "cell_type": "markdown",
   "metadata": {},
   "source": [
    "**9**: Create a list in which each element is a word from the file *Alice*. Store that list in a variable called *wAlice*. <br>\n",
    "\n",
    "*Note: You will need to do some text parsing here. In particular to split the sentences into words. It is also a good practice to normalize words so that words \"Hello\" and \"hello\" become identical, by making all letters lower case. <br>*\n",
    "\n",
    "*Tip: check the following links for a discussion on regular expressions. Also consult the methods available for string manipulation.*\n",
    "\n",
    "https://docs.python.org/3/library/re.html\n",
    "\n",
    "https://stackoverflow.com/questions/1276764/stripping-everything-but-alphanumeric-chars-from-a-string-in-python"
   ]
  },
  {
   "cell_type": "code",
   "execution_count": 17,
   "metadata": {},
   "outputs": [
    {
     "name": "stdout",
     "output_type": "stream",
     "text": [
      "['alice', 'was', 'beginning', 'to', 'get', 'very', 'tired', 'of', 'sitting', 'by', 'her', 'sister', 'on', 'the', 'bank', 'and', 'of', 'having', 'nothing', 'to', 'do', 'once', 'or', 'twice', 'she', 'had', 'peeped', 'into', 'the', 'book', 'her', 'sister', 'was', 'reading', 'but', 'it', 'had', 'no', 'pictures', 'or', 'conversations', 'in', 'it', 'and', 'what', 'is', 'the', 'use', 'of', 'a', 'book', 'thought', 'alice', 'without', 'pictures', 'or', 'conversation']\n"
     ]
    }
   ],
   "source": [
    "# For this exercise, we assumed we want to keep repeated words, otherwise we would just convert wAlice to a set.\n",
    "\n",
    "file_path = \"alice.txt\"\n",
    "\n",
    "wAlice = []\n",
    "\n",
    "with open(file_path, 'r') as file: # Open the file for reading\n",
    "    Alice = file.read()\n",
    "\n",
    "    # Split the text into words using whitespace as the delimiter\n",
    "    words = Alice.split()\n",
    "\n",
    "    for word in words: # placing every word in lowercase\n",
    "        cleaned_word = ''.join(char.lower() for char in word if char.isalpha()) # cleaning all non alphanumeric characters\n",
    "                                                                                # and converting to lowercase\n",
    "        if cleaned_word: # if there are no alphanumeric characters, don't append\n",
    "            wAlice.append(cleaned_word)\n",
    "\n",
    "print(wAlice)\n"
   ]
  },
  {
   "cell_type": "markdown",
   "metadata": {},
   "source": [
    "##### Using the list *wAlice* answer the following questions:<br>\n",
    "**10**: How many words are in the file Alice.txt? <br>"
   ]
  },
  {
   "cell_type": "code",
   "execution_count": 18,
   "metadata": {},
   "outputs": [
    {
     "name": "stdout",
     "output_type": "stream",
     "text": [
      "57\n"
     ]
    }
   ],
   "source": [
    "words = len(wAlice)\n",
    "print(words)"
   ]
  },
  {
   "cell_type": "markdown",
   "metadata": {},
   "source": [
    "**11**: What is the longest and smallest word in the text file?\n",
    "\n",
    "*Note: Length in this case is measured in terms of the number of characters.*"
   ]
  },
  {
   "cell_type": "code",
   "execution_count": 19,
   "metadata": {},
   "outputs": [
    {
     "name": "stdout",
     "output_type": "stream",
     "text": [
      "{'conversations'}\n",
      "{'a'}\n"
     ]
    }
   ],
   "source": [
    "minLetters = 9**99 # initializing with a big number\n",
    "minWords = {}\n",
    "maxLetters = 0 # initializing with a small number\n",
    "maxWords = {}\n",
    "for word in wAlice:\n",
    "    if (len(word) < minLetters): # handling smallest word\n",
    "        minLetters = len(word)\n",
    "        minWords = {word}\n",
    "    elif (len(word) == minLetters):\n",
    "        minWords.add(word)\n",
    "    \n",
    "    if (len(word) > maxLetters): # handling, in parallel the biggest word\n",
    "        maxLetters = len(word)\n",
    "        maxWords = {word}\n",
    "    elif (len(word) == maxLetters):\n",
    "        maxWords.add(word)\n",
    "        \n",
    "print(maxWords)\n",
    "print(minWords)"
   ]
  },
  {
   "cell_type": "markdown",
   "metadata": {},
   "source": [
    "**12**: Delete all the repeated words from *wAlice*. "
   ]
  },
  {
   "cell_type": "code",
   "execution_count": 20,
   "metadata": {},
   "outputs": [
    {
     "name": "stdout",
     "output_type": "stream",
     "text": [
      "{'tired', 'get', 'on', 'into', 'nothing', 'do', 'thought', 'once', 'what', 'she', 'it', 'pictures', 'and', 'alice', 'sister', 'a', 'conversations', 'was', 'very', 'to', 'conversation', 'bank', 'in', 'or', 'her', 'reading', 'had', 'is', 'beginning', 'no', 'having', 'the', 'use', 'peeped', 'by', 'sitting', 'book', 'but', 'twice', 'of', 'without'}\n"
     ]
    }
   ],
   "source": [
    "wAliceNoDups = set(wAlice) # converting to set, so we eliminate repeated words\n",
    "\n",
    "print(wAliceNoDups)"
   ]
  },
  {
   "cell_type": "markdown",
   "metadata": {},
   "source": [
    "**12.1**:How many different words does the text contain?"
   ]
  },
  {
   "cell_type": "code",
   "execution_count": 21,
   "metadata": {},
   "outputs": [
    {
     "name": "stdout",
     "output_type": "stream",
     "text": [
      "41\n"
     ]
    }
   ],
   "source": [
    "words = len(wAliceNoDups)\n",
    "print(words)"
   ]
  },
  {
   "cell_type": "markdown",
   "metadata": {},
   "source": [
    "## Exercise II - of Countries I Love\n",
    "\n",
    "Consider the list countries in the cell below. <br>\n",
    "It consists of a list of the 3-digit ISO codes of a set of countries of interest."
   ]
  },
  {
   "cell_type": "code",
   "execution_count": 64,
   "metadata": {},
   "outputs": [],
   "source": [
    "countries = [\n",
    "\n",
    "('PRT','Portugal','Europe'),\n",
    "('ISL','Israel','Asia'),\n",
    "('COL','Colombia','South America'),\n",
    "('NEV','Nevada','North America'),\n",
    "('JPN','Japan','Asia'),\n",
    "('RUS','Russia','well... which part?'),\n",
    "('DEN','Denmark','Europe'),\n",
    "('NOR','Norway','Europe')\n",
    "    \n",
    "]"
   ]
  },
  {
   "cell_type": "markdown",
   "metadata": {},
   "source": [
    "**Now consider the file *cdata.csv* that you should download.** <br>\n",
    "\n",
    "The file contains several information about countries, and is organized as follows:\n",
    "1. Column 1 is the 3-digit **ISO Code**\n",
    "2. Column 2 is the **Full Name** of the country\n",
    "3. Column 3 is the **Continent** of the country\n",
    "4. Column 4 is the **Population Size** in 2010\n",
    "5. Column 5 is the **GDP per capita** in 2010"
   ]
  },
  {
   "cell_type": "markdown",
   "metadata": {},
   "source": [
    "**13**: Using the Library CSV from Python STL, load the file *cdata.csv* into an object called *raw*. "
   ]
  },
  {
   "cell_type": "code",
   "execution_count": 65,
   "metadata": {},
   "outputs": [],
   "source": [
    "import csv\n",
    "\n",
    "raw = []\n",
    "\n",
    "with open('cdata.csv', 'r') as file: # open the file in read mode\n",
    "    rawFile = csv.reader(file)\n",
    "    \n",
    "    for row in rawFile:\n",
    "        raw.append(row) # append each row of the file\n",
    "\n",
    "# print(raw)"
   ]
  },
  {
   "cell_type": "markdown",
   "metadata": {},
   "source": [
    "**13.1**: Create a dictionary called *cData* in which the key corresponds to the 3-digit ISO Code and the value is a tuple with the information contained in the 2nd to the 5th of column of the cdata file."
   ]
  },
  {
   "cell_type": "code",
   "execution_count": 78,
   "metadata": {
    "tags": []
   },
   "outputs": [],
   "source": [
    "cData = {}\n",
    "aux = 0\n",
    "for element in raw:\n",
    "    if aux == 0:\n",
    "        aux = 1\n",
    "        continue\n",
    "    cData[element[0]] = (element[1], element[2], element[3], element[4])\n",
    "# print(cData)"
   ]
  },
  {
   "cell_type": "markdown",
   "metadata": {},
   "source": [
    "**14**: Using *cData*, identify what is the most common Continent among the nations in the list *countries*."
   ]
  },
  {
   "cell_type": "code",
   "execution_count": 112,
   "metadata": {},
   "outputs": [
    {
     "name": "stdout",
     "output_type": "stream",
     "text": [
      "The fixed list is: [('prt', 'Portugal', 'Europe'), ('isr', 'Israel', 'Asia'), ('col', 'Colombia', 'South America'), ('nev', 'Nevada', 'North America'), ('jpn', 'Japan', 'Asia'), ('rus', 'Russia', 'Asia'), ('dnk', 'Denmark', 'Europe'), ('nor', 'Norway', 'Europe')] \n",
      "\n",
      "Most common continents: ['Europe', 'Asia']\n",
      "Count: 3\n"
     ]
    }
   ],
   "source": [
    "def fixData(element, cData):\n",
    "    for key, value in cData.items():\n",
    "        if element[1].lower() == value[0].lower(): # checking for the correct information in cData for each country\n",
    "            return (key, value[0], value[1])\n",
    "    element = (element[0].lower(), element[1], element[2])\n",
    "    return element\n",
    "            \n",
    "\n",
    "fixedList = []\n",
    "for element in countries:\n",
    "    fixedList.append(fixData(element, cData))\n",
    "\n",
    "print(\"The fixed list is:\", fixedList, \"\\n\")\n",
    "\n",
    "continentCounts = {}\n",
    "\n",
    "for _, _, continent in fixedList: # Iterate through the fixedList and count continents\n",
    "    if continent in continentCounts:\n",
    "        continentCounts[continent] += 1\n",
    "    else:\n",
    "        continentCounts[continent] = 1\n",
    "\n",
    "# Find the highest count of continents\n",
    "maxCount = max(continentCounts.values())\n",
    "\n",
    "# Find all continents with the highest count\n",
    "mostCommonContinents = [continent for continent, count in continentCounts.items() if count == maxCount]\n",
    "\n",
    "if len(mostCommonContinents) > 1:\n",
    "    print(\"Most common continents:\", mostCommonContinents)\n",
    "    print(\"Count:\", maxCount)\n",
    "else:\n",
    "    print(\"Most common continent:\", mostCommonContinents)\n",
    "    print(\"Count:\", maxCount)"
   ]
  },
  {
   "cell_type": "markdown",
   "metadata": {},
   "source": [
    "**15**: Using *cData*, identify what is the the most populated nation in the list *countries*."
   ]
  },
  {
   "cell_type": "code",
   "execution_count": 123,
   "metadata": {},
   "outputs": [
    {
     "name": "stdout",
     "output_type": "stream",
     "text": [
      "('Russia', 143.15386962890625)\n"
     ]
    }
   ],
   "source": [
    "# Create a list of only country names\n",
    "countryNames = [country.lower() for _, country, _ in fixedList]\n",
    "\n",
    "nation = \"\"\n",
    "amount = 0.0\n",
    "\n",
    "for key, value in cData.items():\n",
    "    if value[0].lower() in countryNames: # checking for the correct information in cData for each country\n",
    "        if (float(value[2]) > amount):\n",
    "            amount = float(value[2])\n",
    "            nation = value[0]\n",
    "        \n",
    "print((nation, amount))"
   ]
  },
  {
   "cell_type": "markdown",
   "metadata": {},
   "source": [
    "**16**: Compare the average GDP per capita of the nations in the list *countries* with the average GDP of the countries in cdata file. What can you conclude?"
   ]
  },
  {
   "cell_type": "code",
   "execution_count": 137,
   "metadata": {},
   "outputs": [
    {
     "name": "stdout",
     "output_type": "stream",
     "text": [
      "\n",
      "The average GDP for contries inside countries list is: 38242.63072863724 \n",
      "\n",
      "The average GDP for contries inside cData is: 18014.65454394603 \n",
      "\n"
     ]
    }
   ],
   "source": [
    "def removeNonExistant(element, cData):\n",
    "    for key, value in cData.items():\n",
    "        if element[1].lower() == value[0].lower(): # checking for the correct information in cData for each country\n",
    "            return (key, value[0], value[1])\n",
    "    return False\n",
    "\n",
    "fixedList = []\n",
    "for element in countries:\n",
    "    if removeNonExistant(element, cData): # removing countries with no GDP. They would influence average GDP\n",
    "        fixedList.append(removeNonExistant(element, cData))\n",
    "        \n",
    "countryNames = [country.lower() for _, country, _ in fixedList]\n",
    "\n",
    "averageGdpCountries = 0.0\n",
    "\n",
    "for key, value in cData.items():\n",
    "    if value[0].lower() in countryNames: # fetching the GDP if matches cData entry\n",
    "        averageGdpCountries += float(value[3])\n",
    "\n",
    "averageGdpCountries = averageGdpCountries / len(countryNames) # calculating average GDP for countries\n",
    "\n",
    "print(\"\\nThe average GDP for contries inside countries list is:\", averageGdpCountries, \"\\n\")\n",
    "\n",
    "averageGdpCdata = 0.0\n",
    "\n",
    "for key, value in cData.items():\n",
    "    averageGdpCdata += float(value[3])\n",
    "\n",
    "averageGdpCdata = averageGdpCdata / len(cData.values()) # calculating average GDP for cData (assuming cData is correct)\n",
    "\n",
    "print(\"The average GDP for contries inside cData is:\", averageGdpCdata, \"\\n\")"
   ]
  },
  {
   "cell_type": "markdown",
   "metadata": {},
   "source": [
    "# <span style=\"color:brown\"> Part 3 - Functions hurt nobody </span>\n",
    "\n",
    "## Exercise I - I hate math\n",
    "\n",
    "##### Consider the following equation:\n",
    "\n",
    "\\begin{equation}\n",
    "    y = 6x^2 + 3x + 2\n",
    "\\end{equation}\n",
    "\n",
    "**17**: Write a function called *f* that takes one argument, x, and returns y according to the equation above. "
   ]
  },
  {
   "cell_type": "code",
   "execution_count": 26,
   "metadata": {},
   "outputs": [],
   "source": [
    "def f(x):\n",
    "    return 6*x**2 + 3*x + 2"
   ]
  },
  {
   "cell_type": "markdown",
   "metadata": {},
   "source": [
    "**17.1**: Call the function for x = 2 and print the answer."
   ]
  },
  {
   "cell_type": "code",
   "execution_count": 27,
   "metadata": {},
   "outputs": [
    {
     "data": {
      "text/plain": [
       "32"
      ]
     },
     "execution_count": 27,
     "metadata": {},
     "output_type": "execute_result"
    }
   ],
   "source": [
    "f(2)"
   ]
  },
  {
   "cell_type": "markdown",
   "metadata": {},
   "source": [
    "##### Consider the following sequence of numbers:\n",
    "\n",
    "\\begin{equation}\n",
    "    x_0 = 0; ~~~ ~~~ ~~~ ~~ ~~~ ~~~ ~~~ ~~ ~~~ ~~~ ~~~ ~~ ~~~ ~~~ ~~ ~ \\\\\n",
    "    x_{n} = x_{n-1} - n; ~~~ \\textit{ if} ~~~ x_{n-1}-n > 0 \\\\\n",
    "    x_{n} = x_{n-1} + n; ~~~ \\textit{ otherwise}~~~ ~~~ ~~~ ~~ \\\\\n",
    "\\end{equation}\n",
    "\n",
    "**17.2**: Write a function that returns the nth digit of the above defined sequence. <br>\n",
    "\n",
    "*Note: the above sequence is also known as the Recamán's sequence, and it was invnted by Bernardo Recamán Santos (Bogotá, Colombia)*"
   ]
  },
  {
   "cell_type": "code",
   "execution_count": 28,
   "metadata": {},
   "outputs": [],
   "source": [
    "def recamanSequence(n):\n",
    "    if n == 0: # first condition, returning 0\n",
    "        return 0\n",
    "    \n",
    "    list1 = [0]\n",
    "    for i in range(1, n + 1):\n",
    "        last = list1[i - 1]\n",
    "        if (last - i) not in list1 and last - i > 0: # checking which condition we are applying (also checking if\n",
    "            # element is already in the sequence, because In Recamán's sequence, each term should be unique.\n",
    "            list1.append(last - i) # this one is the first condition, x(n-1) - n > 0\n",
    "        else:\n",
    "            list1.append(last + i) # otherwise\n",
    "    return list1[n]\n",
    "\n",
    "# recamanSequence(8)"
   ]
  },
  {
   "cell_type": "markdown",
   "metadata": {},
   "source": [
    "**17.3** Write a function named isPrime that takes an integer as input and outputs True if the number is prime and False if the number if not prime."
   ]
  },
  {
   "cell_type": "code",
   "execution_count": 29,
   "metadata": {},
   "outputs": [],
   "source": [
    "def prime(num):\n",
    "    flag = False\n",
    "    if num == 1:\n",
    "        print(num, \"is not a prime number\")\n",
    "    elif num > 1:\n",
    "        for i in range(2, num + 1): # check for factors, number can only be divided by 1 and itself\n",
    "            if (num % i) == 0:\n",
    "                if flag:\n",
    "                    return False\n",
    "                flag = True # if factor is found, set flag to True\n",
    "\n",
    "        return True"
   ]
  },
  {
   "cell_type": "markdown",
   "metadata": {},
   "source": [
    "**17.4** Test your function against some examples to show that it works as expected."
   ]
  },
  {
   "cell_type": "code",
   "execution_count": 30,
   "metadata": {},
   "outputs": [
    {
     "data": {
      "text/plain": [
       "True"
      ]
     },
     "execution_count": 30,
     "metadata": {},
     "output_type": "execute_result"
    }
   ],
   "source": [
    "prime(15485863)"
   ]
  },
  {
   "cell_type": "markdown",
   "metadata": {},
   "source": [
    "## Exercise II - Monty Hall Problem\n"
   ]
  },
  {
   "cell_type": "markdown",
   "metadata": {},
   "source": [
    "**18**: The Monty Hall Problem is a probability puzzle loosely based on the American television game show \"Let's Make a Deal\" and named after its original host, Monty Hall. The puzzle can be stated as follows\n",
    "\n",
    "> Suppose you're on a game show, and you're given the choice of three doors: Behind one door is a car; behind the others, goats. You pick a door, say No. 1, and the host, who knows what's behind the doors, opens another door, say No. 3, which has a goat. He then says to you, \"Do you want to pick door No. 2?\" Is it to your advantage to switch your choice? <br>\n",
    "+info: https://en.wikipedia.org/wiki/Monty_Hall_problem\n",
    "\n",
    "While intuitively your guess might be that the chances of winning the car is 1/3 independently of the choice to switch doors or not. Howewver, the odds of winning if you switch doors are 2/3 and greater than if you decide not to switch. While there are theoretical solutions to this problem that allow us to estimate the correct odds of winning in each scenario -- switching or not doors -- an alternative way to proof such outcome is through computer simulations. That is the goal of this exercise, to write the necessary components to simulate the Monty Hall problem and validate the theoretical results through simulations.\n",
    "\n",
    "In this exercise, start by implementing a function that simulates one instance of the Monty Hall problem. \n",
    "In that sense, write a function called MontyHall that accepts **one argument**:\n",
    "- A boolean (True/False, or 1/0) that specifies if the player switches doors or not (after the host has opened his door, which contains a goat).\n",
    "The function should return True if the player wins the car or False if not.\n",
    "\n",
    "Naturally, for the function to reproduce the contest it needs to consider and perform some actions, such as:\n",
    "- Set up the game, that is, create the necessary variables to store the information about three doors and what they have behind, as well as an indicator to track the choice of the player.\n",
    "- Given the initial choice of the player, simulate the opening of one of the two remaining doors that contains a goat.\n",
    "- Given the last two doors left, simulate if the player wants to switch or not his/her choice given their strategy (defined by the input boolean argument of the function).\n",
    "- Output the result, if the contestant correctly guesses which door hides the car or if not.\n",
    "\n",
    "The function MontyHall should simulate one instance of the contest given the choice of the player (to switch or not).\n",
    "\n",
    "**The goal is to understand, statistically, which action leads to the highest probability of winning.** <br>\n",
    "*Note: You should use the library random to solve this exercise.*"
   ]
  },
  {
   "cell_type": "code",
   "execution_count": 31,
   "metadata": {},
   "outputs": [],
   "source": [
    "import random\n",
    "\n",
    "def MontyHall(switch): # switch = True | 1 -> switch doors; switch = False | 0 -> do not switch doors\n",
    "    doors = [0, 0, 1]  # 0 = goat, 1 = car\n",
    "    random.shuffle(doors)  # shuffle the doors with random\n",
    "\n",
    "    choice = random.randint(0, 2) # player choice (not asking for input since we want to simulate)\n",
    "\n",
    "    # find all doors non selected with goats\n",
    "    hostDoor = [i for i in range(3) if i != choice and doors[i] == 0]\n",
    "    hostOpened = random.choice(hostDoor) # from the, at most, 2 doors with goats, select randomly one\n",
    "\n",
    "    remainingDoor = [i for i in range(3) if i != choice and i != hostOpened][0] # Find the remaining unopened door\n",
    "\n",
    "    if switch: # if True, player switches to the remaining door, else he keeps the selected one\n",
    "        choice = remainingDoor\n",
    "\n",
    "    return doors[choice] == 1 # Check if the player won the car. Return value to sum for the simulations tries"
   ]
  },
  {
   "cell_type": "markdown",
   "metadata": {},
   "source": [
    "**18.1** Now that you have a function that simulates an instance of the Monty Hall problem, implement an experiment where you repeat many times (thousands of times) for each of the two possible scenarios: player switching the door, and player not switcing the door. Keep track of the results and estimate the frequencies of wins for each scenario and discuss if the results are inline with the theoretical odds."
   ]
  },
  {
   "cell_type": "code",
   "execution_count": 32,
   "metadata": {},
   "outputs": [
    {
     "name": "stdout",
     "output_type": "stream",
     "text": [
      "Win rate with switching: 0.6659\n",
      "Win rate without switching: 0.334\n"
     ]
    }
   ],
   "source": [
    "# Simulate the game with and without switching, and calculate the win rates\n",
    "numSimulations = 10000\n",
    "winsWithSwitch = sum(MontyHall(True) for i in range(numSimulations))\n",
    "winsWithoutSwitch = sum(MontyHall(False) for i in range(numSimulations))\n",
    "\n",
    "winRateWithSwitch = winsWithSwitch / numSimulations\n",
    "winRateWithoutSwitch = winsWithoutSwitch / numSimulations\n",
    "\n",
    "print(\"Win rate with switching:\", winRateWithSwitch)\n",
    "print(\"Win rate without switching:\", winRateWithoutSwitch)"
   ]
  },
  {
   "cell_type": "code",
   "execution_count": null,
   "metadata": {},
   "outputs": [],
   "source": []
  },
  {
   "cell_type": "markdown",
   "metadata": {},
   "source": [
    "## Exercise III\n",
    "\n",
    "**19**: Consider the list *A*, declared below. <br>\n",
    "Use the function map() to change the values of A by adding 1 to each value if it is even and subtracting 1 to it otherwise."
   ]
  },
  {
   "cell_type": "code",
   "execution_count": 33,
   "metadata": {},
   "outputs": [],
   "source": [
    "A = [460,3347,3044,490,699,1258,1804,973,2223,3416,2879,1058,2915,2422,351,1543,1020,208,643,795,3337,2585,471,2623,1077]"
   ]
  },
  {
   "cell_type": "code",
   "execution_count": 34,
   "metadata": {},
   "outputs": [
    {
     "name": "stdout",
     "output_type": "stream",
     "text": [
      "[461, 3346, 3045, 491, 698, 1259, 1805, 972, 2222, 3417, 2878, 1059, 2914, 2423, 350, 1542, 1021, 209, 642, 794, 3336, 2584, 470, 2622, 1076]\n"
     ]
    }
   ],
   "source": [
    "A = list(map(lambda x: x - 1 if x % 2 == 1 else x + 1, A))\n",
    "print(A)"
   ]
  },
  {
   "cell_type": "markdown",
   "metadata": {},
   "source": [
    "**20**: Create a list B with the same size of A, where each element is True if the associated value in list A is greater than 700, else is False."
   ]
  },
  {
   "cell_type": "code",
   "execution_count": 35,
   "metadata": {},
   "outputs": [
    {
     "name": "stdout",
     "output_type": "stream",
     "text": [
      "[False, True, True, False, False, True, True, True, True, True, True, True, True, True, False, True, True, False, False, True, True, True, False, True, True]\n"
     ]
    }
   ],
   "source": [
    "B = list(map(lambda x: True if x > 700 else False, A))\n",
    "print(B)"
   ]
  },
  {
   "cell_type": "markdown",
   "metadata": {},
   "source": [
    "**21**: Create a list L that contains the Logarithm of base 10 of each value in A. <br>\n",
    "\n",
    "*Note: You should use the module math to solve this exercise.*"
   ]
  },
  {
   "cell_type": "code",
   "execution_count": 36,
   "metadata": {},
   "outputs": [
    {
     "name": "stdout",
     "output_type": "stream",
     "text": [
      "[2.663700925389648, 3.5245259366263757, 3.4835872969688944, 2.6910814921229687, 2.843855422623161, 3.1000257301078626, 3.256477206241677, 2.9876662649262746, 3.346744054604849, 3.5336449787987627, 3.4590907896005865, 3.024895960107485, 3.4644895474339714, 3.384353414137506, 2.5440680443502757, 3.188084373714938, 3.0090257420869104, 2.3201462861110542, 2.807535028068853, 2.8998205024270964, 3.523226041965701, 3.4122925093230463, 2.6720978579357175, 3.4186326873540653, 3.0318122713303706]\n"
     ]
    }
   ],
   "source": [
    "from math import log10\n",
    "L = list(map(lambda x: log10(x), A))\n",
    "print(L)"
   ]
  },
  {
   "cell_type": "markdown",
   "metadata": {},
   "source": [
    "**22**: How many numbers in A are greater than 1000? <br>\n",
    "\n",
    "*Note: You should use the function filter().*"
   ]
  },
  {
   "cell_type": "code",
   "execution_count": 37,
   "metadata": {},
   "outputs": [
    {
     "name": "stdout",
     "output_type": "stream",
     "text": [
      "16\n"
     ]
    }
   ],
   "source": [
    "print(len(list(filter(lambda x: True if x > 1000 else False, A))))"
   ]
  },
  {
   "cell_type": "markdown",
   "metadata": {},
   "source": [
    "**23** Use the function isPrime, that you declared in 17.3, to identify which numbers from A are prime. Note that depending on your implementation of isPrime this task can take more or less time. Use filter to achieve this task."
   ]
  },
  {
   "cell_type": "code",
   "execution_count": 38,
   "metadata": {},
   "outputs": [
    {
     "name": "stdout",
     "output_type": "stream",
     "text": [
      "[461, 491, 1259, 2423, 1021]\n"
     ]
    }
   ],
   "source": [
    "print(list(filter(lambda x: True if prime(x) else False, A)))"
   ]
  },
  {
   "cell_type": "markdown",
   "metadata": {},
   "source": [
    "### Congratulations, it is done!"
   ]
  },
  {
   "cell_type": "markdown",
   "metadata": {},
   "source": [
    "![LEO_GOOD_JOB](https://www.idlememe.com/wp-content/uploads/2022/01/good-job-meme-idlememe-3.jpg)"
   ]
  },
  {
   "cell_type": "code",
   "execution_count": null,
   "metadata": {},
   "outputs": [],
   "source": []
  }
 ],
 "metadata": {
  "kernelspec": {
   "display_name": "Python 3 (ipykernel)",
   "language": "python",
   "name": "python3"
  },
  "language_info": {
   "codemirror_mode": {
    "name": "ipython",
    "version": 3
   },
   "file_extension": ".py",
   "mimetype": "text/x-python",
   "name": "python",
   "nbconvert_exporter": "python",
   "pygments_lexer": "ipython3",
   "version": "3.11.4"
  }
 },
 "nbformat": 4,
 "nbformat_minor": 4
}

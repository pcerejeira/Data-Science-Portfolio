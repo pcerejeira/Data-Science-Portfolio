{
 "cells": [
  {
   "cell_type": "markdown",
   "id": "71d6c6ee-14a0-493a-ba65-bdf0120164ee",
   "metadata": {
    "tags": []
   },
   "source": [
    "**Group 26**\n",
    "\n",
    "**Names**: student number\n",
    "\n",
    "**Pedro Cerejeira**: 20230442<br>\n",
    "**Diogo Reis**: 20230481<br>\n",
    "**Marta Jesus**: 20230464"
   ]
  },
  {
   "cell_type": "markdown",
   "id": "417561c2-bc21-4962-96f6-bcd84cb996b0",
   "metadata": {},
   "source": [
    "**1. Imports and Reading the Data:**"
   ]
  },
  {
   "cell_type": "code",
   "execution_count": 160,
   "id": "fd761de5-755c-4051-8a45-45d96b9a0a0a",
   "metadata": {
    "tags": []
   },
   "outputs": [],
   "source": [
    "# Import Packages\n",
    "import pandas as pd\n",
    "import numpy as np\n",
    "from sklearn.linear_model import LinearRegression\n",
    "import warnings\n",
    "from sklearn.exceptions import DataConversionWarning\n",
    "\n",
    "# Ignore DataConversion warnings for LinearRegression later on\n",
    "warnings.filterwarnings(action='ignore', category=UserWarning, module='sklearn')"
   ]
  },
  {
   "cell_type": "code",
   "execution_count": 161,
   "id": "f91fb99f",
   "metadata": {
    "tags": []
   },
   "outputs": [
    {
     "data": {
      "text/html": [
       "<div>\n",
       "<style scoped>\n",
       "    .dataframe tbody tr th:only-of-type {\n",
       "        vertical-align: middle;\n",
       "    }\n",
       "\n",
       "    .dataframe tbody tr th {\n",
       "        vertical-align: top;\n",
       "    }\n",
       "\n",
       "    .dataframe thead th {\n",
       "        text-align: right;\n",
       "    }\n",
       "</style>\n",
       "<table border=\"1\" class=\"dataframe\">\n",
       "  <thead>\n",
       "    <tr style=\"text-align: right;\">\n",
       "      <th></th>\n",
       "      <th>ID</th>\n",
       "      <th>Age</th>\n",
       "      <th>Gender</th>\n",
       "      <th>Income</th>\n",
       "      <th>EnrollmentStart</th>\n",
       "      <th>EnrollmentFinish</th>\n",
       "      <th>LastPeriodStart</th>\n",
       "      <th>LastPeriodFinish</th>\n",
       "      <th>DateLastVisit</th>\n",
       "      <th>DaysWithoutFrequency</th>\n",
       "      <th>...</th>\n",
       "      <th>OtherActivities</th>\n",
       "      <th>NumberOfFrequencies</th>\n",
       "      <th>AttendedClasses</th>\n",
       "      <th>AllowedWeeklyVisitsBySLA</th>\n",
       "      <th>AllowedNumberOfVisitsBySLA</th>\n",
       "      <th>RealNumberOfVisits</th>\n",
       "      <th>NumberOfRenewals</th>\n",
       "      <th>HasReferences</th>\n",
       "      <th>NumberOfReferences</th>\n",
       "      <th>Dropout</th>\n",
       "    </tr>\n",
       "  </thead>\n",
       "  <tbody>\n",
       "    <tr>\n",
       "      <th>0</th>\n",
       "      <td>10000</td>\n",
       "      <td>60</td>\n",
       "      <td>Female</td>\n",
       "      <td>5500.0</td>\n",
       "      <td>2019-09-03</td>\n",
       "      <td>2019-10-31</td>\n",
       "      <td>2019-07-01</td>\n",
       "      <td>2019-12-31</td>\n",
       "      <td>2019-10-30</td>\n",
       "      <td>1</td>\n",
       "      <td>...</td>\n",
       "      <td>0.0</td>\n",
       "      <td>9.0</td>\n",
       "      <td>7</td>\n",
       "      <td>NaN</td>\n",
       "      <td>6.28</td>\n",
       "      <td>2</td>\n",
       "      <td>0</td>\n",
       "      <td>0.0</td>\n",
       "      <td>0</td>\n",
       "      <td>0</td>\n",
       "    </tr>\n",
       "    <tr>\n",
       "      <th>1</th>\n",
       "      <td>10001</td>\n",
       "      <td>29</td>\n",
       "      <td>Female</td>\n",
       "      <td>2630.0</td>\n",
       "      <td>2014-08-12</td>\n",
       "      <td>2015-09-14</td>\n",
       "      <td>2015-01-01</td>\n",
       "      <td>2015-12-31</td>\n",
       "      <td>2015-07-16</td>\n",
       "      <td>60</td>\n",
       "      <td>...</td>\n",
       "      <td>0.0</td>\n",
       "      <td>23.0</td>\n",
       "      <td>1</td>\n",
       "      <td>2.0</td>\n",
       "      <td>17.42</td>\n",
       "      <td>1</td>\n",
       "      <td>2</td>\n",
       "      <td>0.0</td>\n",
       "      <td>0</td>\n",
       "      <td>1</td>\n",
       "    </tr>\n",
       "    <tr>\n",
       "      <th>2</th>\n",
       "      <td>10002</td>\n",
       "      <td>23</td>\n",
       "      <td>Male</td>\n",
       "      <td>1980.0</td>\n",
       "      <td>2017-05-02</td>\n",
       "      <td>2017-06-01</td>\n",
       "      <td>2017-01-01</td>\n",
       "      <td>2017-06-30</td>\n",
       "      <td>2017-05-25</td>\n",
       "      <td>7</td>\n",
       "      <td>...</td>\n",
       "      <td>0.0</td>\n",
       "      <td>6.0</td>\n",
       "      <td>0</td>\n",
       "      <td>7.0</td>\n",
       "      <td>30.03</td>\n",
       "      <td>6</td>\n",
       "      <td>0</td>\n",
       "      <td>0.0</td>\n",
       "      <td>0</td>\n",
       "      <td>1</td>\n",
       "    </tr>\n",
       "    <tr>\n",
       "      <th>3</th>\n",
       "      <td>10003</td>\n",
       "      <td>9</td>\n",
       "      <td>Male</td>\n",
       "      <td>0.0</td>\n",
       "      <td>2018-09-05</td>\n",
       "      <td>2019-02-12</td>\n",
       "      <td>2018-07-01</td>\n",
       "      <td>2019-06-30</td>\n",
       "      <td>2019-01-21</td>\n",
       "      <td>22</td>\n",
       "      <td>...</td>\n",
       "      <td>0.0</td>\n",
       "      <td>20.0</td>\n",
       "      <td>2</td>\n",
       "      <td>2.0</td>\n",
       "      <td>17.72</td>\n",
       "      <td>3</td>\n",
       "      <td>0</td>\n",
       "      <td>0.0</td>\n",
       "      <td>0</td>\n",
       "      <td>1</td>\n",
       "    </tr>\n",
       "    <tr>\n",
       "      <th>4</th>\n",
       "      <td>10004</td>\n",
       "      <td>35</td>\n",
       "      <td>Male</td>\n",
       "      <td>4320.0</td>\n",
       "      <td>2016-04-20</td>\n",
       "      <td>2018-06-07</td>\n",
       "      <td>2018-01-01</td>\n",
       "      <td>2018-06-30</td>\n",
       "      <td>2017-11-09</td>\n",
       "      <td>210</td>\n",
       "      <td>...</td>\n",
       "      <td>NaN</td>\n",
       "      <td>41.0</td>\n",
       "      <td>0</td>\n",
       "      <td>7.0</td>\n",
       "      <td>60.97</td>\n",
       "      <td>0</td>\n",
       "      <td>3</td>\n",
       "      <td>0.0</td>\n",
       "      <td>0</td>\n",
       "      <td>1</td>\n",
       "    </tr>\n",
       "    <tr>\n",
       "      <th>5</th>\n",
       "      <td>10005</td>\n",
       "      <td>24</td>\n",
       "      <td>Female</td>\n",
       "      <td>2220.0</td>\n",
       "      <td>2015-12-01</td>\n",
       "      <td>2016-07-31</td>\n",
       "      <td>2016-01-01</td>\n",
       "      <td>2016-12-31</td>\n",
       "      <td>2016-07-28</td>\n",
       "      <td>3</td>\n",
       "      <td>...</td>\n",
       "      <td>0.0</td>\n",
       "      <td>28.0</td>\n",
       "      <td>0</td>\n",
       "      <td>7.0</td>\n",
       "      <td>59.01</td>\n",
       "      <td>26</td>\n",
       "      <td>0</td>\n",
       "      <td>0.0</td>\n",
       "      <td>0</td>\n",
       "      <td>1</td>\n",
       "    </tr>\n",
       "    <tr>\n",
       "      <th>6</th>\n",
       "      <td>10006</td>\n",
       "      <td>23</td>\n",
       "      <td>Male</td>\n",
       "      <td>2340.0</td>\n",
       "      <td>2015-10-06</td>\n",
       "      <td>2019-04-11</td>\n",
       "      <td>2019-01-01</td>\n",
       "      <td>2019-06-30</td>\n",
       "      <td>2019-03-26</td>\n",
       "      <td>16</td>\n",
       "      <td>...</td>\n",
       "      <td>0.0</td>\n",
       "      <td>22.0</td>\n",
       "      <td>0</td>\n",
       "      <td>7.0</td>\n",
       "      <td>30.03</td>\n",
       "      <td>3</td>\n",
       "      <td>3</td>\n",
       "      <td>0.0</td>\n",
       "      <td>0</td>\n",
       "      <td>1</td>\n",
       "    </tr>\n",
       "    <tr>\n",
       "      <th>7</th>\n",
       "      <td>10007</td>\n",
       "      <td>23</td>\n",
       "      <td>Male</td>\n",
       "      <td>1910.0</td>\n",
       "      <td>2015-03-25</td>\n",
       "      <td>2019-07-31</td>\n",
       "      <td>2019-01-01</td>\n",
       "      <td>2019-06-30</td>\n",
       "      <td>2019-04-23</td>\n",
       "      <td>99</td>\n",
       "      <td>...</td>\n",
       "      <td>0.0</td>\n",
       "      <td>34.0</td>\n",
       "      <td>0</td>\n",
       "      <td>7.0</td>\n",
       "      <td>60.97</td>\n",
       "      <td>11</td>\n",
       "      <td>5</td>\n",
       "      <td>0.0</td>\n",
       "      <td>0</td>\n",
       "      <td>1</td>\n",
       "    </tr>\n",
       "    <tr>\n",
       "      <th>8</th>\n",
       "      <td>10008</td>\n",
       "      <td>29</td>\n",
       "      <td>Male</td>\n",
       "      <td>3220.0</td>\n",
       "      <td>2016-04-08</td>\n",
       "      <td>2017-06-07</td>\n",
       "      <td>2017-01-01</td>\n",
       "      <td>2017-06-30</td>\n",
       "      <td>2017-03-30</td>\n",
       "      <td>69</td>\n",
       "      <td>...</td>\n",
       "      <td>0.0</td>\n",
       "      <td>6.0</td>\n",
       "      <td>0</td>\n",
       "      <td>7.0</td>\n",
       "      <td>60.97</td>\n",
       "      <td>0</td>\n",
       "      <td>2</td>\n",
       "      <td>0.0</td>\n",
       "      <td>0</td>\n",
       "      <td>1</td>\n",
       "    </tr>\n",
       "    <tr>\n",
       "      <th>9</th>\n",
       "      <td>10009</td>\n",
       "      <td>14</td>\n",
       "      <td>Female</td>\n",
       "      <td>0.0</td>\n",
       "      <td>2016-07-07</td>\n",
       "      <td>2017-02-01</td>\n",
       "      <td>2016-07-01</td>\n",
       "      <td>2017-06-30</td>\n",
       "      <td>2016-11-19</td>\n",
       "      <td>74</td>\n",
       "      <td>...</td>\n",
       "      <td>0.0</td>\n",
       "      <td>6.0</td>\n",
       "      <td>6</td>\n",
       "      <td>2.0</td>\n",
       "      <td>17.72</td>\n",
       "      <td>0</td>\n",
       "      <td>2</td>\n",
       "      <td>0.0</td>\n",
       "      <td>0</td>\n",
       "      <td>1</td>\n",
       "    </tr>\n",
       "  </tbody>\n",
       "</table>\n",
       "<p>10 rows × 31 columns</p>\n",
       "</div>"
      ],
      "text/plain": [
       "      ID  Age  Gender  Income EnrollmentStart EnrollmentFinish  \\\n",
       "0  10000   60  Female  5500.0      2019-09-03       2019-10-31   \n",
       "1  10001   29  Female  2630.0      2014-08-12       2015-09-14   \n",
       "2  10002   23    Male  1980.0      2017-05-02       2017-06-01   \n",
       "3  10003    9    Male     0.0      2018-09-05       2019-02-12   \n",
       "4  10004   35    Male  4320.0      2016-04-20       2018-06-07   \n",
       "5  10005   24  Female  2220.0      2015-12-01       2016-07-31   \n",
       "6  10006   23    Male  2340.0      2015-10-06       2019-04-11   \n",
       "7  10007   23    Male  1910.0      2015-03-25       2019-07-31   \n",
       "8  10008   29    Male  3220.0      2016-04-08       2017-06-07   \n",
       "9  10009   14  Female     0.0      2016-07-07       2017-02-01   \n",
       "\n",
       "  LastPeriodStart LastPeriodFinish DateLastVisit  DaysWithoutFrequency  ...  \\\n",
       "0      2019-07-01       2019-12-31    2019-10-30                     1  ...   \n",
       "1      2015-01-01       2015-12-31    2015-07-16                    60  ...   \n",
       "2      2017-01-01       2017-06-30    2017-05-25                     7  ...   \n",
       "3      2018-07-01       2019-06-30    2019-01-21                    22  ...   \n",
       "4      2018-01-01       2018-06-30    2017-11-09                   210  ...   \n",
       "5      2016-01-01       2016-12-31    2016-07-28                     3  ...   \n",
       "6      2019-01-01       2019-06-30    2019-03-26                    16  ...   \n",
       "7      2019-01-01       2019-06-30    2019-04-23                    99  ...   \n",
       "8      2017-01-01       2017-06-30    2017-03-30                    69  ...   \n",
       "9      2016-07-01       2017-06-30    2016-11-19                    74  ...   \n",
       "\n",
       "   OtherActivities  NumberOfFrequencies  AttendedClasses  \\\n",
       "0              0.0                  9.0                7   \n",
       "1              0.0                 23.0                1   \n",
       "2              0.0                  6.0                0   \n",
       "3              0.0                 20.0                2   \n",
       "4              NaN                 41.0                0   \n",
       "5              0.0                 28.0                0   \n",
       "6              0.0                 22.0                0   \n",
       "7              0.0                 34.0                0   \n",
       "8              0.0                  6.0                0   \n",
       "9              0.0                  6.0                6   \n",
       "\n",
       "   AllowedWeeklyVisitsBySLA  AllowedNumberOfVisitsBySLA  RealNumberOfVisits  \\\n",
       "0                       NaN                        6.28                   2   \n",
       "1                       2.0                       17.42                   1   \n",
       "2                       7.0                       30.03                   6   \n",
       "3                       2.0                       17.72                   3   \n",
       "4                       7.0                       60.97                   0   \n",
       "5                       7.0                       59.01                  26   \n",
       "6                       7.0                       30.03                   3   \n",
       "7                       7.0                       60.97                  11   \n",
       "8                       7.0                       60.97                   0   \n",
       "9                       2.0                       17.72                   0   \n",
       "\n",
       "   NumberOfRenewals  HasReferences  NumberOfReferences  Dropout  \n",
       "0                 0            0.0                   0        0  \n",
       "1                 2            0.0                   0        1  \n",
       "2                 0            0.0                   0        1  \n",
       "3                 0            0.0                   0        1  \n",
       "4                 3            0.0                   0        1  \n",
       "5                 0            0.0                   0        1  \n",
       "6                 3            0.0                   0        1  \n",
       "7                 5            0.0                   0        1  \n",
       "8                 2            0.0                   0        1  \n",
       "9                 2            0.0                   0        1  \n",
       "\n",
       "[10 rows x 31 columns]"
      ]
     },
     "execution_count": 161,
     "metadata": {},
     "output_type": "execute_result"
    }
   ],
   "source": [
    "# Read/Import dataset\n",
    "data = pd.read_csv('XYZ_sports_dataset.csv', delimiter = ';')\n",
    "data.head(10)"
   ]
  },
  {
   "cell_type": "code",
   "execution_count": 162,
   "id": "8a2ce300-afd3-48ed-a1ae-a1c7be29f9e7",
   "metadata": {
    "tags": []
   },
   "outputs": [],
   "source": [
    "df = data.copy()"
   ]
  },
  {
   "cell_type": "markdown",
   "id": "05edcb05-ef74-42c5-bbf9-754703205660",
   "metadata": {},
   "source": [
    "**2. Exploratory Analysis:** "
   ]
  },
  {
   "cell_type": "markdown",
   "id": "2e3065b0-d00b-44cd-a1ab-7386d721a2b2",
   "metadata": {},
   "source": [
    "**2.1 Checking and fixing Types:** "
   ]
  },
  {
   "cell_type": "code",
   "execution_count": 163,
   "id": "6e2b4947-1dc6-40ae-b72e-df2826ec9621",
   "metadata": {
    "tags": []
   },
   "outputs": [],
   "source": [
    "df_types = df.copy()"
   ]
  },
  {
   "cell_type": "code",
   "execution_count": 164,
   "id": "2e859a81-b07f-479c-88ea-6b9ba5a1ffa4",
   "metadata": {
    "tags": []
   },
   "outputs": [
    {
     "data": {
      "text/plain": [
       "ID                              int64\n",
       "Age                             int64\n",
       "Gender                         object\n",
       "Income                        float64\n",
       "EnrollmentStart                object\n",
       "EnrollmentFinish               object\n",
       "LastPeriodStart                object\n",
       "LastPeriodFinish               object\n",
       "DateLastVisit                  object\n",
       "DaysWithoutFrequency            int64\n",
       "LifetimeValue                 float64\n",
       "UseByTime                       int64\n",
       "AthleticsActivities           float64\n",
       "WaterActivities               float64\n",
       "FitnessActivities             float64\n",
       "DanceActivities               float64\n",
       "TeamActivities                float64\n",
       "RacketActivities              float64\n",
       "CombatActivities              float64\n",
       "NatureActivities              float64\n",
       "SpecialActivities             float64\n",
       "OtherActivities               float64\n",
       "NumberOfFrequencies           float64\n",
       "AttendedClasses                 int64\n",
       "AllowedWeeklyVisitsBySLA      float64\n",
       "AllowedNumberOfVisitsBySLA    float64\n",
       "RealNumberOfVisits              int64\n",
       "NumberOfRenewals                int64\n",
       "HasReferences                 float64\n",
       "NumberOfReferences              int64\n",
       "Dropout                         int64\n",
       "dtype: object"
      ]
     },
     "execution_count": 164,
     "metadata": {},
     "output_type": "execute_result"
    }
   ],
   "source": [
    "# Exploring Types\n",
    "df_types.dtypes"
   ]
  },
  {
   "cell_type": "markdown",
   "id": "adfdeca2-2d5f-4638-b776-bce8af56b527",
   "metadata": {},
   "source": [
    "Here we can conclude that some columns' types must be changed:\n",
    "\n",
    "note: for the column **Income**, we are keeping the float type, even though it could be converted to integer\n"
   ]
  },
  {
   "cell_type": "code",
   "execution_count": 165,
   "id": "0087137d-b070-4e9b-81f1-746447b6dc61",
   "metadata": {
    "tags": []
   },
   "outputs": [],
   "source": [
    "# Change the data types of the columns\n",
    "columns_to_change = {\n",
    "    'UseByTime': 'bool',\n",
    "    'AthleticsActivities': 'bool',\n",
    "    'WaterActivities': 'bool',\n",
    "    'FitnessActivities': 'bool',\n",
    "    'DanceActivities': 'bool',\n",
    "    'TeamActivities': 'bool',\n",
    "    'RacketActivities': 'bool',\n",
    "    'CombatActivities': 'bool',\n",
    "    'NatureActivities': 'bool',\n",
    "    'SpecialActivities': 'bool',\n",
    "    'OtherActivities': 'bool',\n",
    "    'NumberOfFrequencies': 'Int64',\n",
    "    'AllowedWeeklyVisitsBySLA': 'Int64',\n",
    "    'HasReferences': 'bool',\n",
    "    'Dropout': 'bool'\n",
    "}\n",
    "df_types = df_types.astype(columns_to_change)"
   ]
  },
  {
   "cell_type": "code",
   "execution_count": 166,
   "id": "7c675a24-7178-49ab-884c-4831cec5519c",
   "metadata": {
    "tags": []
   },
   "outputs": [
    {
     "data": {
      "text/plain": [
       "ID                              int64\n",
       "Age                             int64\n",
       "Gender                         object\n",
       "Income                        float64\n",
       "EnrollmentStart                object\n",
       "EnrollmentFinish               object\n",
       "LastPeriodStart                object\n",
       "LastPeriodFinish               object\n",
       "DateLastVisit                  object\n",
       "DaysWithoutFrequency            int64\n",
       "LifetimeValue                 float64\n",
       "UseByTime                        bool\n",
       "AthleticsActivities              bool\n",
       "WaterActivities                  bool\n",
       "FitnessActivities                bool\n",
       "DanceActivities                  bool\n",
       "TeamActivities                   bool\n",
       "RacketActivities                 bool\n",
       "CombatActivities                 bool\n",
       "NatureActivities                 bool\n",
       "SpecialActivities                bool\n",
       "OtherActivities                  bool\n",
       "NumberOfFrequencies             Int64\n",
       "AttendedClasses                 int64\n",
       "AllowedWeeklyVisitsBySLA        Int64\n",
       "AllowedNumberOfVisitsBySLA    float64\n",
       "RealNumberOfVisits              int64\n",
       "NumberOfRenewals                int64\n",
       "HasReferences                    bool\n",
       "NumberOfReferences              int64\n",
       "Dropout                          bool\n",
       "dtype: object"
      ]
     },
     "execution_count": 166,
     "metadata": {},
     "output_type": "execute_result"
    }
   ],
   "source": [
    "# Confirm the new column types\n",
    "df_types.dtypes"
   ]
  },
  {
   "cell_type": "markdown",
   "id": "933989ae-58fd-41c8-80aa-67f2a4e3a787",
   "metadata": {},
   "source": [
    "**2.2 Fill missing values (Data imputation):** "
   ]
  },
  {
   "cell_type": "code",
   "execution_count": 167,
   "id": "89589708-3f6e-4a68-ac99-5ba7d24cf75e",
   "metadata": {
    "tags": []
   },
   "outputs": [],
   "source": [
    "df_nan = df_types.copy()"
   ]
  },
  {
   "cell_type": "code",
   "execution_count": 168,
   "id": "1d3b65b7-f91b-4e27-8e43-78c003e4138b",
   "metadata": {
    "tags": []
   },
   "outputs": [
    {
     "data": {
      "text/plain": [
       "ID                              0\n",
       "Age                             0\n",
       "Gender                          0\n",
       "Income                        495\n",
       "EnrollmentStart                 0\n",
       "EnrollmentFinish                0\n",
       "LastPeriodStart                 0\n",
       "LastPeriodFinish                0\n",
       "DateLastVisit                   0\n",
       "DaysWithoutFrequency            0\n",
       "LifetimeValue                   0\n",
       "UseByTime                       0\n",
       "AthleticsActivities             0\n",
       "WaterActivities                 0\n",
       "FitnessActivities               0\n",
       "DanceActivities                 0\n",
       "TeamActivities                  0\n",
       "RacketActivities                0\n",
       "CombatActivities                0\n",
       "NatureActivities                0\n",
       "SpecialActivities               0\n",
       "OtherActivities                 0\n",
       "NumberOfFrequencies            26\n",
       "AttendedClasses                 0\n",
       "AllowedWeeklyVisitsBySLA      535\n",
       "AllowedNumberOfVisitsBySLA      0\n",
       "RealNumberOfVisits              0\n",
       "NumberOfRenewals                0\n",
       "HasReferences                   0\n",
       "NumberOfReferences              0\n",
       "Dropout                         0\n",
       "dtype: int64"
      ]
     },
     "execution_count": 168,
     "metadata": {},
     "output_type": "execute_result"
    }
   ],
   "source": [
    "# count of missing values\n",
    "df_nan.isna().sum()"
   ]
  },
  {
   "cell_type": "markdown",
   "id": "47cd452d-2330-4453-bdc0-8fec26e685f1",
   "metadata": {
    "tags": []
   },
   "source": [
    "**a) Income nans**\n",
    "\n",
    "Income and Age should have a high correlation, lets check."
   ]
  },
  {
   "cell_type": "code",
   "execution_count": 169,
   "id": "22c7b776-d30b-4da0-9a79-99433ecf1c36",
   "metadata": {
    "tags": []
   },
   "outputs": [
    {
     "data": {
      "text/plain": [
       "0.8753525249372762"
      ]
     },
     "execution_count": 169,
     "metadata": {},
     "output_type": "execute_result"
    }
   ],
   "source": [
    "# Finding the correlation between Income and Age\n",
    "\n",
    "df_nan['Income'].corr(df_nan['Age'])"
   ]
  },
  {
   "cell_type": "markdown",
   "id": "9ee8efe4-f4cf-49b3-8473-3be54b119eed",
   "metadata": {},
   "source": [
    "Okay, 0.875 is a very high correlation, lets use Age in order to estimate the 'nans' in Income<br>\n",
    "\n",
    "In order to best compute Income estimations, can we assume that individuals under 16 years old have no Income?"
   ]
  },
  {
   "cell_type": "code",
   "execution_count": 170,
   "id": "e0275ca5-dd17-4c02-9b1c-e953d76816cf",
   "metadata": {
    "tags": []
   },
   "outputs": [
    {
     "name": "stdout",
     "output_type": "stream",
     "text": [
      "0.8583690987124464\n"
     ]
    }
   ],
   "source": [
    "# Filter the DataFrame to select individuals under 16 with non-zero income\n",
    "under_16_percentage_with_income = len(df_nan[(df_nan['Age'] < 16) & (df_nan['Income'] > 0)]) / len(df_nan[df_nan['Age'] < 16]) * 100\n",
    "print(under_16_percentage_with_income)"
   ]
  },
  {
   "cell_type": "markdown",
   "id": "be060926-d451-49c7-8851-445d76f0ff7f",
   "metadata": {},
   "source": [
    "Roughly 0.86% of individuals under 16 have an income, this is residual, we will study them later as outliers. For now lets fill the nan values"
   ]
  },
  {
   "cell_type": "markdown",
   "id": "f29e64b1-5c2f-40f5-9834-9f1b367b22cf",
   "metadata": {},
   "source": [
    "For individuals under 16 years old, lets fill nan Incomes as 0. \n",
    "\n",
    "For the ones above 16 years old, we could use the mean for each age, although, **given the high correlation, a linear regression model can provide a more precise estimation for the missing income values based on age**. It can capture the linear trend between the two variables more effectively."
   ]
  },
  {
   "cell_type": "code",
   "execution_count": 171,
   "id": "84a6640d-d7fe-4237-bdc2-980a9691b527",
   "metadata": {
    "tags": []
   },
   "outputs": [
    {
     "data": {
      "text/plain": [
       "340"
      ]
     },
     "execution_count": 171,
     "metadata": {},
     "output_type": "execute_result"
    }
   ],
   "source": [
    "len(df_nan[(df_nan['Age'] < 16) & df_nan['Income'].isna()])"
   ]
  },
  {
   "cell_type": "markdown",
   "id": "25f389bc-bfbc-4dca-804a-237f4ffb4429",
   "metadata": {},
   "source": [
    "Lets fill all these rows with 0 Income"
   ]
  },
  {
   "cell_type": "code",
   "execution_count": 172,
   "id": "03e1514c-997f-47cf-aa95-d9601f190497",
   "metadata": {
    "tags": []
   },
   "outputs": [],
   "source": [
    "df_nan.loc[(df_nan['Age'] < 16) & df_nan['Income'].isna(), 'Income'] = 0"
   ]
  },
  {
   "cell_type": "markdown",
   "id": "28e21da1-1a32-41b1-a329-8825404dc0ed",
   "metadata": {},
   "source": [
    "Lets now check the correlation once again"
   ]
  },
  {
   "cell_type": "code",
   "execution_count": 173,
   "id": "b8feb846-c0f8-4699-91a5-f12d32001dad",
   "metadata": {
    "tags": []
   },
   "outputs": [
    {
     "data": {
      "text/plain": [
       "0.8797464709549547"
      ]
     },
     "execution_count": 173,
     "metadata": {},
     "output_type": "execute_result"
    }
   ],
   "source": [
    "# Finding the new correlation between Income and Age\n",
    "\n",
    "df_nan['Income'].corr(df_nan['Age'])"
   ]
  },
  {
   "cell_type": "markdown",
   "id": "f60b8643-c96e-4617-ab20-dd29dc8c6964",
   "metadata": {},
   "source": [
    "Okay the correlation is better, ~ 0.88 now, lets see how many nans are still in Income, we only handled under 16 years old"
   ]
  },
  {
   "cell_type": "code",
   "execution_count": 174,
   "id": "c46fa8d8-f282-4e71-9afe-08bd3216a3fe",
   "metadata": {
    "tags": []
   },
   "outputs": [
    {
     "data": {
      "text/plain": [
       "ID                              0\n",
       "Age                             0\n",
       "Gender                          0\n",
       "Income                        155\n",
       "EnrollmentStart                 0\n",
       "EnrollmentFinish                0\n",
       "LastPeriodStart                 0\n",
       "LastPeriodFinish                0\n",
       "DateLastVisit                   0\n",
       "DaysWithoutFrequency            0\n",
       "LifetimeValue                   0\n",
       "UseByTime                       0\n",
       "AthleticsActivities             0\n",
       "WaterActivities                 0\n",
       "FitnessActivities               0\n",
       "DanceActivities                 0\n",
       "TeamActivities                  0\n",
       "RacketActivities                0\n",
       "CombatActivities                0\n",
       "NatureActivities                0\n",
       "SpecialActivities               0\n",
       "OtherActivities                 0\n",
       "NumberOfFrequencies            26\n",
       "AttendedClasses                 0\n",
       "AllowedWeeklyVisitsBySLA      535\n",
       "AllowedNumberOfVisitsBySLA      0\n",
       "RealNumberOfVisits              0\n",
       "NumberOfRenewals                0\n",
       "HasReferences                   0\n",
       "NumberOfReferences              0\n",
       "Dropout                         0\n",
       "dtype: int64"
      ]
     },
     "execution_count": 174,
     "metadata": {},
     "output_type": "execute_result"
    }
   ],
   "source": [
    "# count of missing values\n",
    "df_nan.isna().sum()"
   ]
  },
  {
   "cell_type": "markdown",
   "id": "59747a48-341d-4c8d-a662-37b375b8e703",
   "metadata": {},
   "source": [
    "Now for the **individuals above 15 years old, who can receive income**, lets compute a LinearRegression with X = Age, Y = Income"
   ]
  },
  {
   "cell_type": "code",
   "execution_count": 175,
   "id": "6095ccae-7f84-449f-823e-0c2b74f170a1",
   "metadata": {
    "tags": []
   },
   "outputs": [
    {
     "name": "stdout",
     "output_type": "stream",
     "text": [
      "    Age  Estimated_Income\n",
      "0    16       1347.610653\n",
      "1    17       1439.352623\n",
      "2    18       1531.094594\n",
      "3    19       1622.836564\n",
      "4    20       1714.578534\n",
      "..  ...               ...\n",
      "67   83       7494.322659\n",
      "68   84       7586.064630\n",
      "69   85       7677.806600\n",
      "70   86       7769.548570\n",
      "71   87       7861.290540\n",
      "\n",
      "[72 rows x 2 columns]\n"
     ]
    }
   ],
   "source": [
    "# Filter the data for individuals with valid 'Age' and 'Income' values, LinearRegression requires no nans\n",
    "regression_data = df_nan.dropna(subset=['Age', 'Income'])\n",
    "\n",
    "# Filter further for individuals 16+ years old\n",
    "regression_data = regression_data[regression_data['Age'] >= 16]\n",
    "\n",
    "X = regression_data[['Age']]\n",
    "y = regression_data['Income']\n",
    "\n",
    "model = LinearRegression()\n",
    "model.fit(X, y)\n",
    "\n",
    "# Create a range of ages from the minimum to the maximum age in the dataset (16+ years old)\n",
    "ages_to_estimate = range(regression_data['Age'].min(), regression_data['Age'].max() + 1)\n",
    "\n",
    "estimated_incomes = model.predict(np.array(ages_to_estimate).reshape(-1, 1))\n",
    "\n",
    "income_estimates_df = pd.DataFrame({\n",
    "    'Age': ages_to_estimate,\n",
    "    'Estimated_Income': estimated_incomes\n",
    "})\n",
    "\n",
    "print(income_estimates_df)"
   ]
  },
  {
   "cell_type": "markdown",
   "id": "3d5b84ec-fe8c-4cc4-a9d6-2c96e112beca",
   "metadata": {},
   "source": [
    "Lets now fill the nan values with this estimatives"
   ]
  },
  {
   "cell_type": "code",
   "execution_count": 176,
   "id": "dcafc596-8f77-4a00-831a-b5f97489f749",
   "metadata": {
    "tags": []
   },
   "outputs": [],
   "source": [
    "# Lets use our income estimates to fill the nan values. First we need this as a dict\n",
    "age_to_income_map = income_estimates_df.set_index('Age')['Estimated_Income'].to_dict()\n",
    "\n",
    "# Now, fill NaN values in the 'Income' column based on the 'Age' column\n",
    "df_nan['Income'] = df_nan['Income'].fillna(df_nan['Age'].map(age_to_income_map))"
   ]
  },
  {
   "cell_type": "code",
   "execution_count": 177,
   "id": "128a70a4-e220-4bb5-aa46-c36613f1b323",
   "metadata": {
    "tags": []
   },
   "outputs": [
    {
     "data": {
      "text/plain": [
       "ID                              0\n",
       "Age                             0\n",
       "Gender                          0\n",
       "Income                          0\n",
       "EnrollmentStart                 0\n",
       "EnrollmentFinish                0\n",
       "LastPeriodStart                 0\n",
       "LastPeriodFinish                0\n",
       "DateLastVisit                   0\n",
       "DaysWithoutFrequency            0\n",
       "LifetimeValue                   0\n",
       "UseByTime                       0\n",
       "AthleticsActivities             0\n",
       "WaterActivities                 0\n",
       "FitnessActivities               0\n",
       "DanceActivities                 0\n",
       "TeamActivities                  0\n",
       "RacketActivities                0\n",
       "CombatActivities                0\n",
       "NatureActivities                0\n",
       "SpecialActivities               0\n",
       "OtherActivities                 0\n",
       "NumberOfFrequencies            26\n",
       "AttendedClasses                 0\n",
       "AllowedWeeklyVisitsBySLA      535\n",
       "AllowedNumberOfVisitsBySLA      0\n",
       "RealNumberOfVisits              0\n",
       "NumberOfRenewals                0\n",
       "HasReferences                   0\n",
       "NumberOfReferences              0\n",
       "Dropout                         0\n",
       "dtype: int64"
      ]
     },
     "execution_count": 177,
     "metadata": {},
     "output_type": "execute_result"
    }
   ],
   "source": [
    "# count of missing values\n",
    "df_nan.isna().sum()"
   ]
  },
  {
   "cell_type": "markdown",
   "id": "92ed3534-b0d8-4c9d-83aa-d5de847187b3",
   "metadata": {},
   "source": [
    "**b) NumberOfFrequencies nans**\n",
    "\n",
    "For this column, since the number of nan values is low, lets use the median to better fill null values (median is more resistant to outliers)"
   ]
  },
  {
   "cell_type": "code",
   "execution_count": 178,
   "id": "8fd44797-092b-4d9a-96db-edc869246e90",
   "metadata": {
    "tags": []
   },
   "outputs": [],
   "source": [
    "df_nan[\"NumberOfFrequencies\"].fillna(round(df_nan[\"NumberOfFrequencies\"].median(), 0), inplace=True)"
   ]
  },
  {
   "cell_type": "code",
   "execution_count": 179,
   "id": "d68add4a-49be-4504-9415-dd676f6552b1",
   "metadata": {
    "tags": []
   },
   "outputs": [
    {
     "data": {
      "text/plain": [
       "ID                              0\n",
       "Age                             0\n",
       "Gender                          0\n",
       "Income                          0\n",
       "EnrollmentStart                 0\n",
       "EnrollmentFinish                0\n",
       "LastPeriodStart                 0\n",
       "LastPeriodFinish                0\n",
       "DateLastVisit                   0\n",
       "DaysWithoutFrequency            0\n",
       "LifetimeValue                   0\n",
       "UseByTime                       0\n",
       "AthleticsActivities             0\n",
       "WaterActivities                 0\n",
       "FitnessActivities               0\n",
       "DanceActivities                 0\n",
       "TeamActivities                  0\n",
       "RacketActivities                0\n",
       "CombatActivities                0\n",
       "NatureActivities                0\n",
       "SpecialActivities               0\n",
       "OtherActivities                 0\n",
       "NumberOfFrequencies             0\n",
       "AttendedClasses                 0\n",
       "AllowedWeeklyVisitsBySLA      535\n",
       "AllowedNumberOfVisitsBySLA      0\n",
       "RealNumberOfVisits              0\n",
       "NumberOfRenewals                0\n",
       "HasReferences                   0\n",
       "NumberOfReferences              0\n",
       "Dropout                         0\n",
       "dtype: int64"
      ]
     },
     "execution_count": 179,
     "metadata": {},
     "output_type": "execute_result"
    }
   ],
   "source": [
    "df_nan.isna().sum()"
   ]
  },
  {
   "cell_type": "markdown",
   "id": "0804ed2a-7c85-4e7c-a0c3-3a325feac875",
   "metadata": {
    "tags": []
   },
   "source": [
    "**c) AllowedWeeklyVisitsBySLA nans**"
   ]
  },
  {
   "cell_type": "code",
   "execution_count": 180,
   "id": "812eacf9-5243-43a8-9a09-1b4b84e41bfe",
   "metadata": {
    "tags": []
   },
   "outputs": [
    {
     "name": "stdout",
     "output_type": "stream",
     "text": [
      "ID                           -0.010065\n",
      "Age                           0.325009\n",
      "Income                        0.340250\n",
      "DaysWithoutFrequency         -0.010745\n",
      "LifetimeValue                -0.313973\n",
      "UseByTime                     0.111208\n",
      "AthleticsActivities           0.013278\n",
      "WaterActivities              -0.508906\n",
      "FitnessActivities             0.590177\n",
      "DanceActivities              -0.006378\n",
      "TeamActivities               -0.221530\n",
      "RacketActivities             -0.238044\n",
      "CombatActivities              0.140373\n",
      "NatureActivities              0.001405\n",
      "SpecialActivities            -0.004121\n",
      "OtherActivities              -0.040638\n",
      "NumberOfFrequencies           0.018983\n",
      "AttendedClasses              -0.457603\n",
      "AllowedWeeklyVisitsBySLA      1.000000\n",
      "AllowedNumberOfVisitsBySLA    0.674750\n",
      "RealNumberOfVisits            0.161604\n",
      "NumberOfRenewals             -0.186779\n",
      "HasReferences                -0.169852\n",
      "NumberOfReferences           -0.166547\n",
      "Dropout                       0.184497\n",
      "Name: AllowedWeeklyVisitsBySLA, dtype: float64\n"
     ]
    }
   ],
   "source": [
    "# Lets see the correlations of all features with the 'AllowedWeeklyVisitsBySLA'\n",
    "correlation = df_nan.corr(numeric_only = True)\n",
    "print(correlation['AllowedWeeklyVisitsBySLA'])"
   ]
  },
  {
   "cell_type": "markdown",
   "id": "4fd7d8f4-b844-488b-9089-cc3e5e6d6e75",
   "metadata": {},
   "source": [
    "Since 'AllowedWeeklyVisitsBySLA' doesn't have a high correlation with another feature, instead of using the linear regression, we will fill the NANs with the median like we did for the 'NumberOfFrequencies' column"
   ]
  },
  {
   "cell_type": "code",
   "execution_count": 181,
   "id": "b02aafdd-a63d-4bb5-addf-f7429cac41b8",
   "metadata": {
    "tags": []
   },
   "outputs": [],
   "source": [
    "df_nan[\"AllowedWeeklyVisitsBySLA\"].fillna(round(df_nan[\"AllowedWeeklyVisitsBySLA\"].median(), 0), inplace=True)"
   ]
  },
  {
   "cell_type": "code",
   "execution_count": 182,
   "id": "865a23b3-22b9-43f9-a8d9-320a33415110",
   "metadata": {
    "tags": []
   },
   "outputs": [
    {
     "data": {
      "text/plain": [
       "ID                            0\n",
       "Age                           0\n",
       "Gender                        0\n",
       "Income                        0\n",
       "EnrollmentStart               0\n",
       "EnrollmentFinish              0\n",
       "LastPeriodStart               0\n",
       "LastPeriodFinish              0\n",
       "DateLastVisit                 0\n",
       "DaysWithoutFrequency          0\n",
       "LifetimeValue                 0\n",
       "UseByTime                     0\n",
       "AthleticsActivities           0\n",
       "WaterActivities               0\n",
       "FitnessActivities             0\n",
       "DanceActivities               0\n",
       "TeamActivities                0\n",
       "RacketActivities              0\n",
       "CombatActivities              0\n",
       "NatureActivities              0\n",
       "SpecialActivities             0\n",
       "OtherActivities               0\n",
       "NumberOfFrequencies           0\n",
       "AttendedClasses               0\n",
       "AllowedWeeklyVisitsBySLA      0\n",
       "AllowedNumberOfVisitsBySLA    0\n",
       "RealNumberOfVisits            0\n",
       "NumberOfRenewals              0\n",
       "HasReferences                 0\n",
       "NumberOfReferences            0\n",
       "Dropout                       0\n",
       "dtype: int64"
      ]
     },
     "execution_count": 182,
     "metadata": {},
     "output_type": "execute_result"
    }
   ],
   "source": [
    "df_nan.isna().sum()"
   ]
  },
  {
   "cell_type": "markdown",
   "id": "df6db939-f85a-4684-8c33-4f87de6d90dc",
   "metadata": {
    "tags": []
   },
   "source": [
    "**2.2 Checking outliers:** "
   ]
  },
  {
   "cell_type": "code",
   "execution_count": 236,
   "id": "0f46ec61-4933-4891-ab0f-f73864bd7afb",
   "metadata": {
    "tags": []
   },
   "outputs": [],
   "source": [
    "df_outliers = df_nan.copy()"
   ]
  },
  {
   "cell_type": "markdown",
   "id": "651050aa-d27d-43da-b735-c1deb553ff6e",
   "metadata": {},
   "source": [
    "**a) \"Manually\" filtering the dataset's outliers.** Lets go back to the Age/Income relationship outliers\n",
    "\n",
    "Remember that \"Roughly 0.86% of individuals under 16 have an income\", lets try to find some outliers here"
   ]
  },
  {
   "cell_type": "code",
   "execution_count": 237,
   "id": "4122a2c1-ec8d-4844-84aa-2f2a70189c35",
   "metadata": {
    "tags": []
   },
   "outputs": [
    {
     "name": "stdout",
     "output_type": "stream",
     "text": [
      "     Percentage\n",
      "Age            \n",
      "0      0.000000\n",
      "1      0.000000\n",
      "2      0.938967\n",
      "3      0.000000\n",
      "4      0.574713\n",
      "5      1.111111\n",
      "6      0.000000\n",
      "7      0.000000\n",
      "8      0.000000\n",
      "9      0.675676\n",
      "10     0.000000\n",
      "11     0.793651\n",
      "12     0.000000\n",
      "13     1.694915\n",
      "14     1.492537\n",
      "15     5.325444\n",
      "16    21.134021\n",
      "17   100.000000\n",
      "18   100.000000\n"
     ]
    }
   ],
   "source": [
    "# Filter the DataFrame to select individuals under 18 years old with non-zero income\n",
    "under_18_with_income = df_outliers[(df_outliers['Age'] <= 18) & (df_outliers['Income'] > 0)]\n",
    "\n",
    "# From the found individuals, group the data by 'Age', count the entries. How many kids(total) have income per age\n",
    "age_groups = under_18_with_income.groupby('Age').size()\n",
    "\n",
    "# How many individuals exist for each age group (total)\n",
    "total_counts = df_outliers[df_outliers['Age'] <= 18].groupby('Age').size()\n",
    "\n",
    "# Calculate the percentage of individuals with income for each age group\n",
    "percentage_by_age = (age_groups / total_counts * 100).fillna(0)\n",
    "\n",
    "# Create a DataFrame to store the results\n",
    "result_df = pd.DataFrame({'Percentage': percentage_by_age})\n",
    "result_df.index.name = 'Age'\n",
    "\n",
    "# Print or display the result\n",
    "print(result_df)"
   ]
  },
  {
   "cell_type": "markdown",
   "id": "4c3c254c-3d7e-4ea6-9104-1e11f6116c9c",
   "metadata": {},
   "source": [
    "We found some outliers for sure, it is almost impossible for a 2 year old to have an Income.\n",
    "\n",
    "We need to make a decision here. Lets assume that, if the percentage of individuals with Income in an age group is **less than 2%**, they are **outliers**. Lets drop them"
   ]
  },
  {
   "cell_type": "code",
   "execution_count": 238,
   "id": "34b5c79c-e72c-4f4a-81e8-191c0e60085a",
   "metadata": {
    "tags": []
   },
   "outputs": [],
   "source": [
    "# You can see from the DataFrame that, all the individuals below 15 years old which have an income, \n",
    "# belong to less than 2% of their age groups, so we can remove them with this logic\n",
    "filters1 = ~((df_outliers['Age'] < 15) & (df_outliers['Income'] > 0))\n",
    "df_1 = df_outliers[filters1]"
   ]
  },
  {
   "cell_type": "code",
   "execution_count": 239,
   "id": "84b750bc-9314-4202-88b5-65f887791bc6",
   "metadata": {
    "tags": []
   },
   "outputs": [
    {
     "name": "stdout",
     "output_type": "stream",
     "text": [
      "Percentage of data kept after removing outliers: 99.9 %\n"
     ]
    }
   ],
   "source": [
    "print('Percentage of data kept after removing outliers:', np.round(df_1.shape[0] / df_outliers.shape[0], 3) * 100, '%')"
   ]
  },
  {
   "cell_type": "markdown",
   "id": "7b872d9d-66c4-437c-81fb-921f19358ea7",
   "metadata": {
    "tags": []
   },
   "source": [
    "**b) Outlier removal using only the IQR method**"
   ]
  },
  {
   "cell_type": "code",
   "execution_count": 240,
   "id": "6835b22a-4c85-46be-a91f-c9fc5db6f2f5",
   "metadata": {
    "tags": []
   },
   "outputs": [],
   "source": [
    "# Define metric and non-metric features. Why?\n",
    "metric_features = [\"Age\", \"Income\", \"DaysWithoutFrequency\", \"LifetimeValue\", \"NumberOfFrequencies\", \"AttendedClasses\", \"AllowedWeeklyVisitsBySLA\", \"AllowedNumberOfVisitsBySLA\", \"RealNumberOfVisits\", \"NumberOfRenewals\"]\n",
    "non_metric_features = df_outliers.columns.drop(metric_features).to_list()"
   ]
  },
  {
   "cell_type": "code",
   "execution_count": 242,
   "id": "af8fcf67-6593-4013-92e7-207cf06e1612",
   "metadata": {
    "tags": []
   },
   "outputs": [
    {
     "name": "stdout",
     "output_type": "stream",
     "text": [
      "Percentage of data kept after removing more outliers: 55.800000000000004 %\n"
     ]
    }
   ],
   "source": [
    "q25 = df[metric_features].quantile(.25)\n",
    "q75 = df[metric_features].quantile(.75)\n",
    "iqr = (q75 - q25)\n",
    "\n",
    "upper_lim = q75 + 1.5 * iqr\n",
    "lower_lim = q25 - 1.5 * iqr\n",
    "\n",
    "filters2 = []\n",
    "for metric in metric_features:\n",
    "    llim = lower_lim[metric]\n",
    "    ulim = upper_lim[metric]\n",
    "    filters2.append(df_outliers[metric].between(llim, ulim, inclusive='both'))\n",
    "\n",
    "filters2 = pd.Series(np.all(filters2, 0))\n",
    "\n",
    "# Use the filters to remove outliers from df_outliers\n",
    "df_2 = df_outliers[filters2]\n",
    "\n",
    "# Calculate the percentage of data kept after removing more outliers\n",
    "print('Percentage of data kept after removing more outliers:', np.round(df_2.shape[0] / df_outliers.shape[0], 3) * 100, '%')"
   ]
  },
  {
   "cell_type": "code",
   "execution_count": 245,
   "id": "3792f3b7-f917-43df-92b2-7198a878fb5b",
   "metadata": {
    "tags": []
   },
   "outputs": [
    {
     "name": "stdout",
     "output_type": "stream",
     "text": [
      "Percentage of data kept after removing outliers: 99.9 %\n"
     ]
    }
   ],
   "source": [
    "df_3 = df_outliers[(filters1 | filters2)]\n",
    "print('Percentage of data kept after removing outliers:', np.round(df_3.shape[0] / df_outliers.shape[0], 3) * 100, '%')"
   ]
  }
 ],
 "metadata": {
  "kernelspec": {
   "display_name": "Python 3 (ipykernel)",
   "language": "python",
   "name": "python3"
  },
  "language_info": {
   "codemirror_mode": {
    "name": "ipython",
    "version": 3
   },
   "file_extension": ".py",
   "mimetype": "text/x-python",
   "name": "python",
   "nbconvert_exporter": "python",
   "pygments_lexer": "ipython3",
   "version": "3.11.4"
  }
 },
 "nbformat": 4,
 "nbformat_minor": 5
}

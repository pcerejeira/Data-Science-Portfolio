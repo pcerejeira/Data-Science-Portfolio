{
 "cells": [
  {
   "cell_type": "markdown",
   "id": "71d6c6ee-14a0-493a-ba65-bdf0120164ee",
   "metadata": {
    "tags": []
   },
   "source": [
    "**Group 26**\n",
    "\n",
    "**Names**: student number\n",
    "\n",
    "**Pedro Cerejeira**: 20230442<br>\n",
    "**Diogo Reis**: 20230481<br>\n",
    "**Marta Jesus**: 20230464"
   ]
  },
  {
   "cell_type": "markdown",
   "id": "417561c2-bc21-4962-96f6-bcd84cb996b0",
   "metadata": {},
   "source": [
    "**1. Imports:**"
   ]
  },
  {
   "cell_type": "code",
   "execution_count": 105,
   "id": "fd761de5-755c-4051-8a45-45d96b9a0a0a",
   "metadata": {},
   "outputs": [],
   "source": [
    "# Import Packages\n",
    "import pandas as pd\n",
    "import numpy as np\n",
    "from sklearn.linear_model import LinearRegression\n",
    "import warnings\n",
    "from sklearn.exceptions import DataConversionWarning\n",
    "\n",
    "# Ignore DataConversion warnings for LinearRegression later on\n",
    "warnings.filterwarnings(action='ignore', category=UserWarning, module='sklearn')"
   ]
  },
  {
   "cell_type": "code",
   "execution_count": 106,
   "id": "f91fb99f",
   "metadata": {
    "tags": []
   },
   "outputs": [
    {
     "data": {
      "text/html": [
       "<div>\n",
       "<style scoped>\n",
       "    .dataframe tbody tr th:only-of-type {\n",
       "        vertical-align: middle;\n",
       "    }\n",
       "\n",
       "    .dataframe tbody tr th {\n",
       "        vertical-align: top;\n",
       "    }\n",
       "\n",
       "    .dataframe thead th {\n",
       "        text-align: right;\n",
       "    }\n",
       "</style>\n",
       "<table border=\"1\" class=\"dataframe\">\n",
       "  <thead>\n",
       "    <tr style=\"text-align: right;\">\n",
       "      <th></th>\n",
       "      <th>ID</th>\n",
       "      <th>Age</th>\n",
       "      <th>Gender</th>\n",
       "      <th>Income</th>\n",
       "      <th>EnrollmentStart</th>\n",
       "      <th>EnrollmentFinish</th>\n",
       "      <th>LastPeriodStart</th>\n",
       "      <th>LastPeriodFinish</th>\n",
       "      <th>DateLastVisit</th>\n",
       "      <th>DaysWithoutFrequency</th>\n",
       "      <th>...</th>\n",
       "      <th>OtherActivities</th>\n",
       "      <th>NumberOfFrequencies</th>\n",
       "      <th>AttendedClasses</th>\n",
       "      <th>AllowedWeeklyVisitsBySLA</th>\n",
       "      <th>AllowedNumberOfVisitsBySLA</th>\n",
       "      <th>RealNumberOfVisits</th>\n",
       "      <th>NumberOfRenewals</th>\n",
       "      <th>HasReferences</th>\n",
       "      <th>NumberOfReferences</th>\n",
       "      <th>Dropout</th>\n",
       "    </tr>\n",
       "  </thead>\n",
       "  <tbody>\n",
       "    <tr>\n",
       "      <th>0</th>\n",
       "      <td>10000</td>\n",
       "      <td>60</td>\n",
       "      <td>Female</td>\n",
       "      <td>5500.0</td>\n",
       "      <td>2019-09-03</td>\n",
       "      <td>2019-10-31</td>\n",
       "      <td>2019-07-01</td>\n",
       "      <td>2019-12-31</td>\n",
       "      <td>2019-10-30</td>\n",
       "      <td>1</td>\n",
       "      <td>...</td>\n",
       "      <td>0.0</td>\n",
       "      <td>9.0</td>\n",
       "      <td>7</td>\n",
       "      <td>NaN</td>\n",
       "      <td>6.28</td>\n",
       "      <td>2</td>\n",
       "      <td>0</td>\n",
       "      <td>0.0</td>\n",
       "      <td>0</td>\n",
       "      <td>0</td>\n",
       "    </tr>\n",
       "    <tr>\n",
       "      <th>1</th>\n",
       "      <td>10001</td>\n",
       "      <td>29</td>\n",
       "      <td>Female</td>\n",
       "      <td>2630.0</td>\n",
       "      <td>2014-08-12</td>\n",
       "      <td>2015-09-14</td>\n",
       "      <td>2015-01-01</td>\n",
       "      <td>2015-12-31</td>\n",
       "      <td>2015-07-16</td>\n",
       "      <td>60</td>\n",
       "      <td>...</td>\n",
       "      <td>0.0</td>\n",
       "      <td>23.0</td>\n",
       "      <td>1</td>\n",
       "      <td>2.0</td>\n",
       "      <td>17.42</td>\n",
       "      <td>1</td>\n",
       "      <td>2</td>\n",
       "      <td>0.0</td>\n",
       "      <td>0</td>\n",
       "      <td>1</td>\n",
       "    </tr>\n",
       "    <tr>\n",
       "      <th>2</th>\n",
       "      <td>10002</td>\n",
       "      <td>23</td>\n",
       "      <td>Male</td>\n",
       "      <td>1980.0</td>\n",
       "      <td>2017-05-02</td>\n",
       "      <td>2017-06-01</td>\n",
       "      <td>2017-01-01</td>\n",
       "      <td>2017-06-30</td>\n",
       "      <td>2017-05-25</td>\n",
       "      <td>7</td>\n",
       "      <td>...</td>\n",
       "      <td>0.0</td>\n",
       "      <td>6.0</td>\n",
       "      <td>0</td>\n",
       "      <td>7.0</td>\n",
       "      <td>30.03</td>\n",
       "      <td>6</td>\n",
       "      <td>0</td>\n",
       "      <td>0.0</td>\n",
       "      <td>0</td>\n",
       "      <td>1</td>\n",
       "    </tr>\n",
       "    <tr>\n",
       "      <th>3</th>\n",
       "      <td>10003</td>\n",
       "      <td>9</td>\n",
       "      <td>Male</td>\n",
       "      <td>0.0</td>\n",
       "      <td>2018-09-05</td>\n",
       "      <td>2019-02-12</td>\n",
       "      <td>2018-07-01</td>\n",
       "      <td>2019-06-30</td>\n",
       "      <td>2019-01-21</td>\n",
       "      <td>22</td>\n",
       "      <td>...</td>\n",
       "      <td>0.0</td>\n",
       "      <td>20.0</td>\n",
       "      <td>2</td>\n",
       "      <td>2.0</td>\n",
       "      <td>17.72</td>\n",
       "      <td>3</td>\n",
       "      <td>0</td>\n",
       "      <td>0.0</td>\n",
       "      <td>0</td>\n",
       "      <td>1</td>\n",
       "    </tr>\n",
       "    <tr>\n",
       "      <th>4</th>\n",
       "      <td>10004</td>\n",
       "      <td>35</td>\n",
       "      <td>Male</td>\n",
       "      <td>4320.0</td>\n",
       "      <td>2016-04-20</td>\n",
       "      <td>2018-06-07</td>\n",
       "      <td>2018-01-01</td>\n",
       "      <td>2018-06-30</td>\n",
       "      <td>2017-11-09</td>\n",
       "      <td>210</td>\n",
       "      <td>...</td>\n",
       "      <td>NaN</td>\n",
       "      <td>41.0</td>\n",
       "      <td>0</td>\n",
       "      <td>7.0</td>\n",
       "      <td>60.97</td>\n",
       "      <td>0</td>\n",
       "      <td>3</td>\n",
       "      <td>0.0</td>\n",
       "      <td>0</td>\n",
       "      <td>1</td>\n",
       "    </tr>\n",
       "    <tr>\n",
       "      <th>5</th>\n",
       "      <td>10005</td>\n",
       "      <td>24</td>\n",
       "      <td>Female</td>\n",
       "      <td>2220.0</td>\n",
       "      <td>2015-12-01</td>\n",
       "      <td>2016-07-31</td>\n",
       "      <td>2016-01-01</td>\n",
       "      <td>2016-12-31</td>\n",
       "      <td>2016-07-28</td>\n",
       "      <td>3</td>\n",
       "      <td>...</td>\n",
       "      <td>0.0</td>\n",
       "      <td>28.0</td>\n",
       "      <td>0</td>\n",
       "      <td>7.0</td>\n",
       "      <td>59.01</td>\n",
       "      <td>26</td>\n",
       "      <td>0</td>\n",
       "      <td>0.0</td>\n",
       "      <td>0</td>\n",
       "      <td>1</td>\n",
       "    </tr>\n",
       "    <tr>\n",
       "      <th>6</th>\n",
       "      <td>10006</td>\n",
       "      <td>23</td>\n",
       "      <td>Male</td>\n",
       "      <td>2340.0</td>\n",
       "      <td>2015-10-06</td>\n",
       "      <td>2019-04-11</td>\n",
       "      <td>2019-01-01</td>\n",
       "      <td>2019-06-30</td>\n",
       "      <td>2019-03-26</td>\n",
       "      <td>16</td>\n",
       "      <td>...</td>\n",
       "      <td>0.0</td>\n",
       "      <td>22.0</td>\n",
       "      <td>0</td>\n",
       "      <td>7.0</td>\n",
       "      <td>30.03</td>\n",
       "      <td>3</td>\n",
       "      <td>3</td>\n",
       "      <td>0.0</td>\n",
       "      <td>0</td>\n",
       "      <td>1</td>\n",
       "    </tr>\n",
       "    <tr>\n",
       "      <th>7</th>\n",
       "      <td>10007</td>\n",
       "      <td>23</td>\n",
       "      <td>Male</td>\n",
       "      <td>1910.0</td>\n",
       "      <td>2015-03-25</td>\n",
       "      <td>2019-07-31</td>\n",
       "      <td>2019-01-01</td>\n",
       "      <td>2019-06-30</td>\n",
       "      <td>2019-04-23</td>\n",
       "      <td>99</td>\n",
       "      <td>...</td>\n",
       "      <td>0.0</td>\n",
       "      <td>34.0</td>\n",
       "      <td>0</td>\n",
       "      <td>7.0</td>\n",
       "      <td>60.97</td>\n",
       "      <td>11</td>\n",
       "      <td>5</td>\n",
       "      <td>0.0</td>\n",
       "      <td>0</td>\n",
       "      <td>1</td>\n",
       "    </tr>\n",
       "    <tr>\n",
       "      <th>8</th>\n",
       "      <td>10008</td>\n",
       "      <td>29</td>\n",
       "      <td>Male</td>\n",
       "      <td>3220.0</td>\n",
       "      <td>2016-04-08</td>\n",
       "      <td>2017-06-07</td>\n",
       "      <td>2017-01-01</td>\n",
       "      <td>2017-06-30</td>\n",
       "      <td>2017-03-30</td>\n",
       "      <td>69</td>\n",
       "      <td>...</td>\n",
       "      <td>0.0</td>\n",
       "      <td>6.0</td>\n",
       "      <td>0</td>\n",
       "      <td>7.0</td>\n",
       "      <td>60.97</td>\n",
       "      <td>0</td>\n",
       "      <td>2</td>\n",
       "      <td>0.0</td>\n",
       "      <td>0</td>\n",
       "      <td>1</td>\n",
       "    </tr>\n",
       "    <tr>\n",
       "      <th>9</th>\n",
       "      <td>10009</td>\n",
       "      <td>14</td>\n",
       "      <td>Female</td>\n",
       "      <td>0.0</td>\n",
       "      <td>2016-07-07</td>\n",
       "      <td>2017-02-01</td>\n",
       "      <td>2016-07-01</td>\n",
       "      <td>2017-06-30</td>\n",
       "      <td>2016-11-19</td>\n",
       "      <td>74</td>\n",
       "      <td>...</td>\n",
       "      <td>0.0</td>\n",
       "      <td>6.0</td>\n",
       "      <td>6</td>\n",
       "      <td>2.0</td>\n",
       "      <td>17.72</td>\n",
       "      <td>0</td>\n",
       "      <td>2</td>\n",
       "      <td>0.0</td>\n",
       "      <td>0</td>\n",
       "      <td>1</td>\n",
       "    </tr>\n",
       "  </tbody>\n",
       "</table>\n",
       "<p>10 rows × 31 columns</p>\n",
       "</div>"
      ],
      "text/plain": [
       "      ID  Age  Gender  Income EnrollmentStart EnrollmentFinish  \\\n",
       "0  10000   60  Female  5500.0      2019-09-03       2019-10-31   \n",
       "1  10001   29  Female  2630.0      2014-08-12       2015-09-14   \n",
       "2  10002   23    Male  1980.0      2017-05-02       2017-06-01   \n",
       "3  10003    9    Male     0.0      2018-09-05       2019-02-12   \n",
       "4  10004   35    Male  4320.0      2016-04-20       2018-06-07   \n",
       "5  10005   24  Female  2220.0      2015-12-01       2016-07-31   \n",
       "6  10006   23    Male  2340.0      2015-10-06       2019-04-11   \n",
       "7  10007   23    Male  1910.0      2015-03-25       2019-07-31   \n",
       "8  10008   29    Male  3220.0      2016-04-08       2017-06-07   \n",
       "9  10009   14  Female     0.0      2016-07-07       2017-02-01   \n",
       "\n",
       "  LastPeriodStart LastPeriodFinish DateLastVisit  DaysWithoutFrequency  ...  \\\n",
       "0      2019-07-01       2019-12-31    2019-10-30                     1  ...   \n",
       "1      2015-01-01       2015-12-31    2015-07-16                    60  ...   \n",
       "2      2017-01-01       2017-06-30    2017-05-25                     7  ...   \n",
       "3      2018-07-01       2019-06-30    2019-01-21                    22  ...   \n",
       "4      2018-01-01       2018-06-30    2017-11-09                   210  ...   \n",
       "5      2016-01-01       2016-12-31    2016-07-28                     3  ...   \n",
       "6      2019-01-01       2019-06-30    2019-03-26                    16  ...   \n",
       "7      2019-01-01       2019-06-30    2019-04-23                    99  ...   \n",
       "8      2017-01-01       2017-06-30    2017-03-30                    69  ...   \n",
       "9      2016-07-01       2017-06-30    2016-11-19                    74  ...   \n",
       "\n",
       "   OtherActivities  NumberOfFrequencies  AttendedClasses  \\\n",
       "0              0.0                  9.0                7   \n",
       "1              0.0                 23.0                1   \n",
       "2              0.0                  6.0                0   \n",
       "3              0.0                 20.0                2   \n",
       "4              NaN                 41.0                0   \n",
       "5              0.0                 28.0                0   \n",
       "6              0.0                 22.0                0   \n",
       "7              0.0                 34.0                0   \n",
       "8              0.0                  6.0                0   \n",
       "9              0.0                  6.0                6   \n",
       "\n",
       "   AllowedWeeklyVisitsBySLA  AllowedNumberOfVisitsBySLA  RealNumberOfVisits  \\\n",
       "0                       NaN                        6.28                   2   \n",
       "1                       2.0                       17.42                   1   \n",
       "2                       7.0                       30.03                   6   \n",
       "3                       2.0                       17.72                   3   \n",
       "4                       7.0                       60.97                   0   \n",
       "5                       7.0                       59.01                  26   \n",
       "6                       7.0                       30.03                   3   \n",
       "7                       7.0                       60.97                  11   \n",
       "8                       7.0                       60.97                   0   \n",
       "9                       2.0                       17.72                   0   \n",
       "\n",
       "   NumberOfRenewals  HasReferences  NumberOfReferences  Dropout  \n",
       "0                 0            0.0                   0        0  \n",
       "1                 2            0.0                   0        1  \n",
       "2                 0            0.0                   0        1  \n",
       "3                 0            0.0                   0        1  \n",
       "4                 3            0.0                   0        1  \n",
       "5                 0            0.0                   0        1  \n",
       "6                 3            0.0                   0        1  \n",
       "7                 5            0.0                   0        1  \n",
       "8                 2            0.0                   0        1  \n",
       "9                 2            0.0                   0        1  \n",
       "\n",
       "[10 rows x 31 columns]"
      ]
     },
     "execution_count": 106,
     "metadata": {},
     "output_type": "execute_result"
    }
   ],
   "source": [
    "# Read/Import dataset\n",
    "data = pd.read_csv('XYZ_sports_dataset.csv', delimiter = ';')\n",
    "data.head(10)"
   ]
  },
  {
   "cell_type": "markdown",
   "id": "05edcb05-ef74-42c5-bbf9-754703205660",
   "metadata": {},
   "source": [
    "**2. Exploratory Analysis:** "
   ]
  },
  {
   "cell_type": "markdown",
   "id": "2e3065b0-d00b-44cd-a1ab-7386d721a2b2",
   "metadata": {},
   "source": [
    "**2.1 Checking Types:** "
   ]
  },
  {
   "cell_type": "code",
   "execution_count": 139,
   "id": "2e859a81-b07f-479c-88ea-6b9ba5a1ffa4",
   "metadata": {
    "tags": []
   },
   "outputs": [
    {
     "data": {
      "text/plain": [
       "ID                              int64\n",
       "Age                             int64\n",
       "Gender                         object\n",
       "Income                        float64\n",
       "EnrollmentStart                object\n",
       "EnrollmentFinish               object\n",
       "LastPeriodStart                object\n",
       "LastPeriodFinish               object\n",
       "DateLastVisit                  object\n",
       "DaysWithoutFrequency            int64\n",
       "LifetimeValue                 float64\n",
       "UseByTime                       int64\n",
       "AthleticsActivities           float64\n",
       "WaterActivities               float64\n",
       "FitnessActivities             float64\n",
       "DanceActivities               float64\n",
       "TeamActivities                float64\n",
       "RacketActivities              float64\n",
       "CombatActivities              float64\n",
       "NatureActivities              float64\n",
       "SpecialActivities             float64\n",
       "OtherActivities               float64\n",
       "NumberOfFrequencies           float64\n",
       "AttendedClasses                 int64\n",
       "AllowedWeeklyVisitsBySLA      float64\n",
       "AllowedNumberOfVisitsBySLA    float64\n",
       "RealNumberOfVisits              int64\n",
       "NumberOfRenewals                int64\n",
       "HasReferences                 float64\n",
       "NumberOfReferences              int64\n",
       "Dropout                         int64\n",
       "dtype: object"
      ]
     },
     "execution_count": 139,
     "metadata": {},
     "output_type": "execute_result"
    }
   ],
   "source": [
    "# Exploring Types\n",
    "data.dtypes"
   ]
  },
  {
   "cell_type": "markdown",
   "id": "adfdeca2-2d5f-4638-b776-bce8af56b527",
   "metadata": {},
   "source": [
    "Here we can conclude that some columns' types must be changed:\n",
    "\n",
    "note: for the column **Income**, we are keeping the float type, even though it could be converted to integer\n"
   ]
  },
  {
   "cell_type": "code",
   "execution_count": 140,
   "id": "0087137d-b070-4e9b-81f1-746447b6dc61",
   "metadata": {
    "tags": []
   },
   "outputs": [],
   "source": [
    "# Change the data types of the columns\n",
    "columns_to_change = {\n",
    "    'UseByTime': 'bool',\n",
    "    'AthleticsActivities': 'bool',\n",
    "    'WaterActivities': 'bool',\n",
    "    'FitnessActivities': 'bool',\n",
    "    'DanceActivities': 'bool',\n",
    "    'TeamActivities': 'bool',\n",
    "    'RacketActivities': 'bool',\n",
    "    'CombatActivities': 'bool',\n",
    "    'NatureActivities': 'bool',\n",
    "    'SpecialActivities': 'bool',\n",
    "    'OtherActivities': 'bool',\n",
    "    'NumberOfFrequencies': 'Int64',\n",
    "    'AllowedWeeklyVisitsBySLA': 'Int64',\n",
    "    'HasReferences': 'bool',\n",
    "    'Dropout': 'bool'\n",
    "}\n",
    "df = data.copy()\n",
    "df = df.astype(columns_to_change)"
   ]
  },
  {
   "cell_type": "code",
   "execution_count": 141,
   "id": "7c675a24-7178-49ab-884c-4831cec5519c",
   "metadata": {
    "tags": []
   },
   "outputs": [
    {
     "data": {
      "text/plain": [
       "ID                              int64\n",
       "Age                             int64\n",
       "Gender                         object\n",
       "Income                        float64\n",
       "EnrollmentStart                object\n",
       "EnrollmentFinish               object\n",
       "LastPeriodStart                object\n",
       "LastPeriodFinish               object\n",
       "DateLastVisit                  object\n",
       "DaysWithoutFrequency            int64\n",
       "LifetimeValue                 float64\n",
       "UseByTime                        bool\n",
       "AthleticsActivities              bool\n",
       "WaterActivities                  bool\n",
       "FitnessActivities                bool\n",
       "DanceActivities                  bool\n",
       "TeamActivities                   bool\n",
       "RacketActivities                 bool\n",
       "CombatActivities                 bool\n",
       "NatureActivities                 bool\n",
       "SpecialActivities                bool\n",
       "OtherActivities                  bool\n",
       "NumberOfFrequencies             Int64\n",
       "AttendedClasses                 int64\n",
       "AllowedWeeklyVisitsBySLA        Int64\n",
       "AllowedNumberOfVisitsBySLA    float64\n",
       "RealNumberOfVisits              int64\n",
       "NumberOfRenewals                int64\n",
       "HasReferences                    bool\n",
       "NumberOfReferences              int64\n",
       "Dropout                          bool\n",
       "dtype: object"
      ]
     },
     "execution_count": 141,
     "metadata": {},
     "output_type": "execute_result"
    }
   ],
   "source": [
    "# Confirm the new column types\n",
    "df.dtypes"
   ]
  },
  {
   "cell_type": "markdown",
   "id": "933989ae-58fd-41c8-80aa-67f2a4e3a787",
   "metadata": {},
   "source": [
    "**2.2 Checking nans:** "
   ]
  },
  {
   "cell_type": "code",
   "execution_count": 142,
   "id": "1d3b65b7-f91b-4e27-8e43-78c003e4138b",
   "metadata": {
    "tags": []
   },
   "outputs": [
    {
     "data": {
      "text/plain": [
       "ID                              0\n",
       "Age                             0\n",
       "Gender                          0\n",
       "Income                        495\n",
       "EnrollmentStart                 0\n",
       "EnrollmentFinish                0\n",
       "LastPeriodStart                 0\n",
       "LastPeriodFinish                0\n",
       "DateLastVisit                   0\n",
       "DaysWithoutFrequency            0\n",
       "LifetimeValue                   0\n",
       "UseByTime                       0\n",
       "AthleticsActivities             0\n",
       "WaterActivities                 0\n",
       "FitnessActivities               0\n",
       "DanceActivities                 0\n",
       "TeamActivities                  0\n",
       "RacketActivities                0\n",
       "CombatActivities                0\n",
       "NatureActivities                0\n",
       "SpecialActivities               0\n",
       "OtherActivities                 0\n",
       "NumberOfFrequencies            26\n",
       "AttendedClasses                 0\n",
       "AllowedWeeklyVisitsBySLA      535\n",
       "AllowedNumberOfVisitsBySLA      0\n",
       "RealNumberOfVisits              0\n",
       "NumberOfRenewals                0\n",
       "HasReferences                   0\n",
       "NumberOfReferences              0\n",
       "Dropout                         0\n",
       "dtype: int64"
      ]
     },
     "execution_count": 142,
     "metadata": {},
     "output_type": "execute_result"
    }
   ],
   "source": [
    "# count of missing values\n",
    "df.isna().sum()"
   ]
  },
  {
   "cell_type": "markdown",
   "id": "47cd452d-2330-4453-bdc0-8fec26e685f1",
   "metadata": {
    "tags": []
   },
   "source": [
    "**Income has a lot of nans, lets analyze them:**\n",
    "\n",
    "Income and Age should have a high correlation, lets check."
   ]
  },
  {
   "cell_type": "code",
   "execution_count": 143,
   "id": "22c7b776-d30b-4da0-9a79-99433ecf1c36",
   "metadata": {
    "tags": []
   },
   "outputs": [
    {
     "data": {
      "text/plain": [
       "0.8753525249372762"
      ]
     },
     "execution_count": 143,
     "metadata": {},
     "output_type": "execute_result"
    }
   ],
   "source": [
    "# Finding the correlation between Income and Age\n",
    "\n",
    "df['Income'].corr(df['Age'])"
   ]
  },
  {
   "cell_type": "markdown",
   "id": "9ee8efe4-f4cf-49b3-8473-3be54b119eed",
   "metadata": {},
   "source": [
    "Okay, 0.87 is a very high correlation, lets use Age in order to estimate the 'nans' in Income<br>\n",
    "Lets try to find some outliers.\n",
    "\n",
    "Under aged individuals should have no income or low income, lets try to prove this"
   ]
  },
  {
   "cell_type": "code",
   "execution_count": 144,
   "id": "e0275ca5-dd17-4c02-9b1c-e953d76816cf",
   "metadata": {
    "tags": []
   },
   "outputs": [
    {
     "name": "stdout",
     "output_type": "stream",
     "text": [
      "429\n"
     ]
    }
   ],
   "source": [
    "# Filter the DataFrame to select individuals under 18 with non-zero income\n",
    "under_18_with_income = df[(df['Age'] <= 18) & (df['Income'] > 0)]\n",
    "print(len(under_18_with_income))"
   ]
  },
  {
   "cell_type": "markdown",
   "id": "be060926-d451-49c7-8851-445d76f0ff7f",
   "metadata": {},
   "source": [
    "Okay actually a good amount of underaged individuals has an income, lets check the % of kids with an income for each age"
   ]
  },
  {
   "cell_type": "code",
   "execution_count": 145,
   "id": "df98be0e-7f37-4496-86b8-4f6e1087f821",
   "metadata": {
    "tags": []
   },
   "outputs": [
    {
     "name": "stdout",
     "output_type": "stream",
     "text": [
      "     Percentage\n",
      "Age            \n",
      "0      0.000000\n",
      "1      0.000000\n",
      "2      0.938967\n",
      "3      0.000000\n",
      "4      0.574713\n",
      "5      1.111111\n",
      "6      0.000000\n",
      "7      0.000000\n",
      "8      0.000000\n",
      "9      0.675676\n",
      "10     0.000000\n",
      "11     0.793651\n",
      "12     0.000000\n",
      "13     1.694915\n",
      "14     1.492537\n",
      "15     5.325444\n",
      "16     9.278351\n",
      "17   100.000000\n",
      "18    99.565217\n"
     ]
    }
   ],
   "source": [
    "# Group the data by 'Age' (of kids with income) and count them. How many kids have income per age\n",
    "age_groups = under_18_with_income.groupby('Age').size()\n",
    "\n",
    "# How many individuals exist for each age (total)\n",
    "total_counts = df[df['Age'] <= 18].groupby('Age').size()\n",
    "\n",
    "# Calculate the percentage for each age group\n",
    "percentage_by_age = (age_groups / total_counts * 100).fillna(0)\n",
    "\n",
    "# Create a DataFrame to store the results\n",
    "result_df = pd.DataFrame({'Percentage': percentage_by_age})\n",
    "result_df.index.name = 'Age'\n",
    "\n",
    "# Print or display the result\n",
    "print(result_df)"
   ]
  },
  {
   "cell_type": "markdown",
   "id": "cef5501d-1595-41f2-92b2-04d628b8bf53",
   "metadata": {
    "tags": []
   },
   "source": [
    "If the percentage is **less than 2%**, we are assuming them as **outliers**. Lets drop them"
   ]
  },
  {
   "cell_type": "code",
   "execution_count": 146,
   "id": "dd5f86d5-e20e-44bd-8b61-361b1fbd6f06",
   "metadata": {
    "tags": []
   },
   "outputs": [],
   "source": [
    "# Under 2% are all the individuals under 15 years old which have an income\n",
    "df = df[~((df['Age'] < 15) & (df['Income'] > 0))]"
   ]
  },
  {
   "cell_type": "markdown",
   "id": "c10b24eb-d22d-4e0e-b522-cdda841047b6",
   "metadata": {},
   "source": [
    "How many of those kids have nan in Income?"
   ]
  },
  {
   "cell_type": "code",
   "execution_count": 147,
   "id": "84a6640d-d7fe-4237-bdc2-980a9691b527",
   "metadata": {
    "tags": []
   },
   "outputs": [
    {
     "data": {
      "text/plain": [
       "313"
      ]
     },
     "execution_count": 147,
     "metadata": {},
     "output_type": "execute_result"
    }
   ],
   "source": [
    "len(df[(df['Age'] < 15) & df['Income'].isna()])"
   ]
  },
  {
   "cell_type": "markdown",
   "id": "25f389bc-bfbc-4dca-804a-237f4ffb4429",
   "metadata": {},
   "source": [
    "Following the same logic, lets also fill nans of individuals under 15 years old with 0"
   ]
  },
  {
   "cell_type": "code",
   "execution_count": 148,
   "id": "03e1514c-997f-47cf-aa95-d9601f190497",
   "metadata": {
    "tags": []
   },
   "outputs": [],
   "source": [
    "df.loc[(df['Age'] < 15) & df['Income'].isna(), 'Income'] = 0"
   ]
  },
  {
   "cell_type": "markdown",
   "id": "28e21da1-1a32-41b1-a329-8825404dc0ed",
   "metadata": {},
   "source": [
    "Lets now check the correlation once again"
   ]
  },
  {
   "cell_type": "code",
   "execution_count": 149,
   "id": "b8feb846-c0f8-4699-91a5-f12d32001dad",
   "metadata": {
    "tags": []
   },
   "outputs": [
    {
     "data": {
      "text/plain": [
       "0.8808106043038966"
      ]
     },
     "execution_count": 149,
     "metadata": {},
     "output_type": "execute_result"
    }
   ],
   "source": [
    "# Finding the new correlation between Income and Age\n",
    "\n",
    "df['Income'].corr(df['Age'])"
   ]
  },
  {
   "cell_type": "markdown",
   "id": "f60b8643-c96e-4617-ab20-dd29dc8c6964",
   "metadata": {},
   "source": [
    "Okay the correlation is better, 0.88 now, lets see how many nans are still in Income, we only handled under 15 years old"
   ]
  },
  {
   "cell_type": "code",
   "execution_count": 150,
   "id": "c46fa8d8-f282-4e71-9afe-08bd3216a3fe",
   "metadata": {
    "tags": []
   },
   "outputs": [
    {
     "data": {
      "text/plain": [
       "ID                              0\n",
       "Age                             0\n",
       "Gender                          0\n",
       "Income                        182\n",
       "EnrollmentStart                 0\n",
       "EnrollmentFinish                0\n",
       "LastPeriodStart                 0\n",
       "LastPeriodFinish                0\n",
       "DateLastVisit                   0\n",
       "DaysWithoutFrequency            0\n",
       "LifetimeValue                   0\n",
       "UseByTime                       0\n",
       "AthleticsActivities             0\n",
       "WaterActivities                 0\n",
       "FitnessActivities               0\n",
       "DanceActivities                 0\n",
       "TeamActivities                  0\n",
       "RacketActivities                0\n",
       "CombatActivities                0\n",
       "NatureActivities                0\n",
       "SpecialActivities               0\n",
       "OtherActivities                 0\n",
       "NumberOfFrequencies            26\n",
       "AttendedClasses                 0\n",
       "AllowedWeeklyVisitsBySLA      535\n",
       "AllowedNumberOfVisitsBySLA      0\n",
       "RealNumberOfVisits              0\n",
       "NumberOfRenewals                0\n",
       "HasReferences                   0\n",
       "NumberOfReferences              0\n",
       "Dropout                         0\n",
       "dtype: int64"
      ]
     },
     "execution_count": 150,
     "metadata": {},
     "output_type": "execute_result"
    }
   ],
   "source": [
    "# count of missing values\n",
    "df.isna().sum()"
   ]
  },
  {
   "cell_type": "markdown",
   "id": "59747a48-341d-4c8d-a662-37b375b8e703",
   "metadata": {},
   "source": [
    "Lets assume that **individuals above 15 years old can receive income**, how can we fill their nans approximatly?\n",
    "\n",
    "We could use the mean for each age, although, given the high correlation, a linear regression model can provide a more precise estimation for the missing income values based on age. It can capture the linear trend between the two variables more effectively."
   ]
  },
  {
   "cell_type": "code",
   "execution_count": 151,
   "id": "6095ccae-7f84-449f-823e-0c2b74f170a1",
   "metadata": {
    "tags": []
   },
   "outputs": [
    {
     "name": "stdout",
     "output_type": "stream",
     "text": [
      "    Age  Estimated_Income\n",
      "0    15       1225.690979\n",
      "1    16       1318.620418\n",
      "2    17       1411.549857\n",
      "3    18       1504.479296\n",
      "4    19       1597.408735\n",
      "..  ...               ...\n",
      "68   83       7544.892825\n",
      "69   84       7637.822264\n",
      "70   85       7730.751703\n",
      "71   86       7823.681142\n",
      "72   87       7916.610581\n",
      "\n",
      "[73 rows x 2 columns]\n"
     ]
    }
   ],
   "source": [
    "# Filter the data for individuals with valid 'Age' and 'Income' values, LinearRegression requires no nans\n",
    "regression_data = df.dropna(subset=['Age', 'Income'])\n",
    "\n",
    "# Filter further for individuals older than 15\n",
    "regression_data = regression_data[regression_data['Age'] >= 15]\n",
    "\n",
    "X = regression_data[['Age']]\n",
    "y = regression_data['Income']\n",
    "\n",
    "model = LinearRegression()\n",
    "model.fit(X, y)\n",
    "\n",
    "# Create a range of ages from the minimum to the maximum age in the dataset (15+ years old)\n",
    "ages_to_estimate = range(regression_data['Age'].min(), regression_data['Age'].max() + 1)\n",
    "\n",
    "estimated_incomes = model.predict(np.array(ages_to_estimate).reshape(-1, 1))\n",
    "\n",
    "income_estimates_df = pd.DataFrame({\n",
    "    'Age': ages_to_estimate,\n",
    "    'Estimated_Income': estimated_incomes\n",
    "})\n",
    "\n",
    "print(income_estimates_df)"
   ]
  },
  {
   "cell_type": "markdown",
   "id": "3d5b84ec-fe8c-4cc4-a9d6-2c96e112beca",
   "metadata": {},
   "source": [
    "Lets now fill the nan values with this estimatives"
   ]
  },
  {
   "cell_type": "code",
   "execution_count": 152,
   "id": "dcafc596-8f77-4a00-831a-b5f97489f749",
   "metadata": {
    "tags": []
   },
   "outputs": [],
   "source": [
    "# Lets use our income estimates to fill the nan values. First we need this as a dict\n",
    "age_to_income_map = income_estimates_df.set_index('Age')['Estimated_Income'].to_dict()\n",
    "\n",
    "# Now, fill NaN values in the 'Income' column based on the 'Age' column\n",
    "df['Income'] = df['Income'].fillna(df['Age'].map(age_to_income_map))"
   ]
  },
  {
   "cell_type": "code",
   "execution_count": 153,
   "id": "128a70a4-e220-4bb5-aa46-c36613f1b323",
   "metadata": {
    "tags": []
   },
   "outputs": [
    {
     "data": {
      "text/plain": [
       "ID                              0\n",
       "Age                             0\n",
       "Gender                          0\n",
       "Income                          0\n",
       "EnrollmentStart                 0\n",
       "EnrollmentFinish                0\n",
       "LastPeriodStart                 0\n",
       "LastPeriodFinish                0\n",
       "DateLastVisit                   0\n",
       "DaysWithoutFrequency            0\n",
       "LifetimeValue                   0\n",
       "UseByTime                       0\n",
       "AthleticsActivities             0\n",
       "WaterActivities                 0\n",
       "FitnessActivities               0\n",
       "DanceActivities                 0\n",
       "TeamActivities                  0\n",
       "RacketActivities                0\n",
       "CombatActivities                0\n",
       "NatureActivities                0\n",
       "SpecialActivities               0\n",
       "OtherActivities                 0\n",
       "NumberOfFrequencies            26\n",
       "AttendedClasses                 0\n",
       "AllowedWeeklyVisitsBySLA      535\n",
       "AllowedNumberOfVisitsBySLA      0\n",
       "RealNumberOfVisits              0\n",
       "NumberOfRenewals                0\n",
       "HasReferences                   0\n",
       "NumberOfReferences              0\n",
       "Dropout                         0\n",
       "dtype: int64"
      ]
     },
     "execution_count": 153,
     "metadata": {},
     "output_type": "execute_result"
    }
   ],
   "source": [
    "# count of missing values\n",
    "df.isna().sum()"
   ]
  },
  {
   "cell_type": "markdown",
   "id": "92ed3534-b0d8-4c9d-83aa-d5de847187b3",
   "metadata": {},
   "source": [
    "Nice, Income is solved, lets handle NumberOfFrequencies now\n",
    "\n",
    "For this column, since the number of nan values is low, lets use the median to better fill null values (median is more resistant to outliers)"
   ]
  },
  {
   "cell_type": "code",
   "execution_count": 154,
   "id": "8fd44797-092b-4d9a-96db-edc869246e90",
   "metadata": {
    "tags": []
   },
   "outputs": [],
   "source": [
    "df[\"NumberOfFrequencies\"].fillna(round(df[\"NumberOfFrequencies\"].median(), 0), inplace=True)"
   ]
  },
  {
   "cell_type": "code",
   "execution_count": 155,
   "id": "d68add4a-49be-4504-9415-dd676f6552b1",
   "metadata": {},
   "outputs": [
    {
     "data": {
      "text/plain": [
       "ID                              0\n",
       "Age                             0\n",
       "Gender                          0\n",
       "Income                          0\n",
       "EnrollmentStart                 0\n",
       "EnrollmentFinish                0\n",
       "LastPeriodStart                 0\n",
       "LastPeriodFinish                0\n",
       "DateLastVisit                   0\n",
       "DaysWithoutFrequency            0\n",
       "LifetimeValue                   0\n",
       "UseByTime                       0\n",
       "AthleticsActivities             0\n",
       "WaterActivities                 0\n",
       "FitnessActivities               0\n",
       "DanceActivities                 0\n",
       "TeamActivities                  0\n",
       "RacketActivities                0\n",
       "CombatActivities                0\n",
       "NatureActivities                0\n",
       "SpecialActivities               0\n",
       "OtherActivities                 0\n",
       "NumberOfFrequencies             0\n",
       "AttendedClasses                 0\n",
       "AllowedWeeklyVisitsBySLA      535\n",
       "AllowedNumberOfVisitsBySLA      0\n",
       "RealNumberOfVisits              0\n",
       "NumberOfRenewals                0\n",
       "HasReferences                   0\n",
       "NumberOfReferences              0\n",
       "Dropout                         0\n",
       "dtype: int64"
      ]
     },
     "execution_count": 155,
     "metadata": {},
     "output_type": "execute_result"
    }
   ],
   "source": [
    "df.isna().sum()"
   ]
  },
  {
   "cell_type": "markdown",
   "id": "0804ed2a-7c85-4e7c-a0c3-3a325feac875",
   "metadata": {
    "tags": []
   },
   "source": [
    "Finally lets handle the column AllowedWeeklyVisitsBySLA"
   ]
  },
  {
   "cell_type": "code",
   "execution_count": 157,
   "id": "812eacf9-5243-43a8-9a09-1b4b84e41bfe",
   "metadata": {},
   "outputs": [
    {
     "name": "stdout",
     "output_type": "stream",
     "text": [
      "ID                           -0.009779\n",
      "Age                           0.324157\n",
      "Income                        0.339814\n",
      "DaysWithoutFrequency         -0.011010\n",
      "LifetimeValue                -0.313766\n",
      "UseByTime                     0.111082\n",
      "AthleticsActivities           0.014495\n",
      "WaterActivities              -0.508415\n",
      "FitnessActivities             0.589821\n",
      "DanceActivities              -0.006433\n",
      "TeamActivities               -0.221603\n",
      "RacketActivities             -0.238414\n",
      "CombatActivities              0.140488\n",
      "NatureActivities              0.003655\n",
      "SpecialActivities            -0.004299\n",
      "OtherActivities              -0.040739\n",
      "NumberOfFrequencies           0.018813\n",
      "AttendedClasses              -0.457501\n",
      "AllowedWeeklyVisitsBySLA      1.000000\n",
      "AllowedNumberOfVisitsBySLA    0.674454\n",
      "RealNumberOfVisits            0.161452\n",
      "NumberOfRenewals             -0.186531\n",
      "HasReferences                -0.170145\n",
      "NumberOfReferences           -0.166825\n",
      "Dropout                       0.183685\n",
      "Name: AllowedWeeklyVisitsBySLA, dtype: float64\n"
     ]
    }
   ],
   "source": [
    "# Lets see the correlations of all features with the 'AllowedWeeklyVisitsBySLA'\n",
    "correlation = df.corr(numeric_only = True)\n",
    "print(correlation['AllowedWeeklyVisitsBySLA'])"
   ]
  },
  {
   "cell_type": "markdown",
   "id": "4fd7d8f4-b844-488b-9089-cc3e5e6d6e75",
   "metadata": {},
   "source": [
    "Since 'AllowedWeeklyVisitsBySLA' doesn't have a high correlation with another feature, instead of using the linear regression, we will fill the NANs with the median like we did for the 'NumberOfFrequencies' column"
   ]
  },
  {
   "cell_type": "code",
   "execution_count": 158,
   "id": "b02aafdd-a63d-4bb5-addf-f7429cac41b8",
   "metadata": {},
   "outputs": [],
   "source": [
    "df[\"AllowedWeeklyVisitsBySLA\"].fillna(round(df[\"AllowedWeeklyVisitsBySLA\"].median(), 0), inplace=True)"
   ]
  },
  {
   "cell_type": "code",
   "execution_count": 159,
   "id": "865a23b3-22b9-43f9-a8d9-320a33415110",
   "metadata": {},
   "outputs": [
    {
     "data": {
      "text/plain": [
       "ID                            0\n",
       "Age                           0\n",
       "Gender                        0\n",
       "Income                        0\n",
       "EnrollmentStart               0\n",
       "EnrollmentFinish              0\n",
       "LastPeriodStart               0\n",
       "LastPeriodFinish              0\n",
       "DateLastVisit                 0\n",
       "DaysWithoutFrequency          0\n",
       "LifetimeValue                 0\n",
       "UseByTime                     0\n",
       "AthleticsActivities           0\n",
       "WaterActivities               0\n",
       "FitnessActivities             0\n",
       "DanceActivities               0\n",
       "TeamActivities                0\n",
       "RacketActivities              0\n",
       "CombatActivities              0\n",
       "NatureActivities              0\n",
       "SpecialActivities             0\n",
       "OtherActivities               0\n",
       "NumberOfFrequencies           0\n",
       "AttendedClasses               0\n",
       "AllowedWeeklyVisitsBySLA      0\n",
       "AllowedNumberOfVisitsBySLA    0\n",
       "RealNumberOfVisits            0\n",
       "NumberOfRenewals              0\n",
       "HasReferences                 0\n",
       "NumberOfReferences            0\n",
       "Dropout                       0\n",
       "dtype: int64"
      ]
     },
     "execution_count": 159,
     "metadata": {},
     "output_type": "execute_result"
    }
   ],
   "source": [
    "df.isna().sum()"
   ]
  }
 ],
 "metadata": {
  "kernelspec": {
   "display_name": "Python 3 (ipykernel)",
   "language": "python",
   "name": "python3"
  },
  "language_info": {
   "codemirror_mode": {
    "name": "ipython",
    "version": 3
   },
   "file_extension": ".py",
   "mimetype": "text/x-python",
   "name": "python",
   "nbconvert_exporter": "python",
   "pygments_lexer": "ipython3",
   "version": "3.11.5"
  }
 },
 "nbformat": 4,
 "nbformat_minor": 5
}
